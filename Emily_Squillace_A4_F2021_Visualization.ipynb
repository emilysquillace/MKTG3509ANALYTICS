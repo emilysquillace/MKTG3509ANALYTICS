{
  "nbformat": 4,
  "nbformat_minor": 0,
  "metadata": {
    "colab": {
      "name": "Emily Squillace A4 F2021 - Visualization.ipynb",
      "provenance": [],
      "collapsed_sections": []
    },
    "kernelspec": {
      "name": "python3",
      "display_name": "Python 3"
    }
  },
  "cells": [
    {
      "cell_type": "markdown",
      "metadata": {
        "id": "yVjwQvGh8KoO"
      },
      "source": [
        "**Rationale** Perhaps the most important medium of communicating data-driven insights is through the construction of effective graphs. This assignment is designed for you to practice making some common types of graphs.\n",
        "\n",
        "[Datasets](https://drive.google.com/open?id=1-oR65kkGk7TIzBtRGXVWhkeU1q7yIc-x&authuser=tul67796%40temple.edu&usp=drive_fs) required\n",
        "\n",
        "1. [Rent the Runway item fit](https://drive.google.com/open?id=15UtPTWFea2YfU51SRrZJDyM4aI0YXVFU&authuser=tul67796%40temple.edu&usp=drive_fs)\n",
        "1. [Orange Telecom customer churn](https://drive.google.com/open?id=15eDf_6pamH9GLA1PNMdOlF4YSYHu_zc8&authuser=tul67796%40temple.edu&usp=drive_fs)"
      ]
    },
    {
      "cell_type": "markdown",
      "metadata": {
        "id": "t_g59ocI8lgs"
      },
      "source": [
        "# 1. (5 points) Bar Plot - Rent the runway dataset\n",
        "\n",
        "For categories with at least 100 observations, plot the proportion of reviews that indicated that the item fits using a bar plot.\n",
        "\n",
        "Answer these questions (see detailed prompt at end of section):\n",
        "\n",
        "1. Which categories fit the best? Which categories fit the worst?\n",
        "1. Does this bar plot confirm or reject your prior expectations? Explain.\n",
        "1. How can you mitigate the fit issues?\n",
        "\n",
        "\n",
        "**Follow each of the steps below**"
      ]
    },
    {
      "cell_type": "code",
      "metadata": {
        "id": "mcmHneGxQJgJ",
        "colab": {
          "base_uri": "https://localhost:8080/"
        },
        "outputId": "4ed65f36-8c63-47c6-b2cf-6904eaeedb2e"
      },
      "source": [
        "from google.colab import drive\n",
        "drive.mount('drive')"
      ],
      "execution_count": 13,
      "outputs": [
        {
          "output_type": "stream",
          "name": "stdout",
          "text": [
            "Drive already mounted at drive; to attempt to forcibly remount, call drive.mount(\"drive\", force_remount=True).\n"
          ]
        }
      ]
    },
    {
      "cell_type": "code",
      "metadata": {
        "id": "5UMuJC23d80I"
      },
      "source": [
        "# import the libraries you need: (pandas, matplotlib)\n",
        "import os"
      ],
      "execution_count": 14,
      "outputs": []
    },
    {
      "cell_type": "code",
      "metadata": {
        "id": "RpVb_YRPs1V_",
        "colab": {
          "base_uri": "https://localhost:8080/"
        },
        "outputId": "1524e429-ca6b-4a95-ad88-93eca056c2e7"
      },
      "source": [
        "# specify the folder in your Google MyDrive containing the datasets for this assignment\n",
        "os.listdir('drive/MyDrive/marketing3509/')\n",
        "os.listdir(fpath)\n",
        "import os\n",
        "import pandas as pd\n",
        "fpath = 'drive/MyDrive/marketing3509/' # put your filepath here\n",
        "os.listdir(fpath)"
      ],
      "execution_count": 51,
      "outputs": [
        {
          "output_type": "execute_result",
          "data": {
            "text/plain": [
              "['Practice 8 31.ipynb',\n",
              " 'A1 Emily Squillace',\n",
              " 'A2 Emily Squillace',\n",
              " 'Notes 9 9.ipynb',\n",
              " 'Features data set.csv',\n",
              " 'merged_sales.csv',\n",
              " 'sales data-set.csv',\n",
              " 'stores A data-set.csv',\n",
              " 'stores B data-set.csv',\n",
              " 'stores C data-set.csv',\n",
              " 'stores data-set.csv',\n",
              " 'avocado.csv',\n",
              " 'avocado.json',\n",
              " 'avocado (1).xlsx',\n",
              " 'avocado.xlsx',\n",
              " 'movies.csv',\n",
              " 'ratings_time.csv',\n",
              " 'quebec_biz (1).csv',\n",
              " 'quebec_yelp_reviews (1).csv',\n",
              " 'In Class Module 9 14.ipynb',\n",
              " 'quebec_biz.csv',\n",
              " 'quebec_yelp_reviews.csv',\n",
              " 'A3 Emily Squillace.ipynb',\n",
              " 'caliprices.png',\n",
              " 'avocado_prices',\n",
              " 'telecom_churn (1).csv',\n",
              " 'renttherunway_final_data (1).json',\n",
              " 'renttherunway_final_data.json',\n",
              " 'telecom_churn.csv']"
            ]
          },
          "metadata": {},
          "execution_count": 51
        }
      ]
    },
    {
      "cell_type": "code",
      "metadata": {
        "id": "fOE3NENSuEb3"
      },
      "source": [
        "# read in file use read_json(fpath + 'rentherunway_final_data.json', lines = True)\n",
        "# call the dataframe: rent\n"
      ],
      "execution_count": 33,
      "outputs": []
    },
    {
      "cell_type": "code",
      "metadata": {
        "id": "cEgiNLwj6MKm"
      },
      "source": [
        "rent = pd.read_json(fpath + 'renttherunway_final_data.json', lines = True)\n"
      ],
      "execution_count": 53,
      "outputs": []
    },
    {
      "cell_type": "code",
      "metadata": {
        "id": "YsNMxLWHeNx0",
        "colab": {
          "base_uri": "https://localhost:8080/",
          "height": 513
        },
        "outputId": "aa17f106-8d97-41a8-8539-b25417ef26d8"
      },
      "source": [
        "# preview the first 5 rows the dataset to get a sense of its contents\n",
        "rent.head(5)\n"
      ],
      "execution_count": 54,
      "outputs": [
        {
          "output_type": "execute_result",
          "data": {
            "text/html": [
              "<div>\n",
              "<style scoped>\n",
              "    .dataframe tbody tr th:only-of-type {\n",
              "        vertical-align: middle;\n",
              "    }\n",
              "\n",
              "    .dataframe tbody tr th {\n",
              "        vertical-align: top;\n",
              "    }\n",
              "\n",
              "    .dataframe thead th {\n",
              "        text-align: right;\n",
              "    }\n",
              "</style>\n",
              "<table border=\"1\" class=\"dataframe\">\n",
              "  <thead>\n",
              "    <tr style=\"text-align: right;\">\n",
              "      <th></th>\n",
              "      <th>fit</th>\n",
              "      <th>user_id</th>\n",
              "      <th>bust size</th>\n",
              "      <th>item_id</th>\n",
              "      <th>weight</th>\n",
              "      <th>rating</th>\n",
              "      <th>rented for</th>\n",
              "      <th>review_text</th>\n",
              "      <th>body type</th>\n",
              "      <th>review_summary</th>\n",
              "      <th>category</th>\n",
              "      <th>height</th>\n",
              "      <th>size</th>\n",
              "      <th>age</th>\n",
              "      <th>review_date</th>\n",
              "    </tr>\n",
              "  </thead>\n",
              "  <tbody>\n",
              "    <tr>\n",
              "      <th>0</th>\n",
              "      <td>fit</td>\n",
              "      <td>420272</td>\n",
              "      <td>34d</td>\n",
              "      <td>2260466</td>\n",
              "      <td>137lbs</td>\n",
              "      <td>10.0</td>\n",
              "      <td>vacation</td>\n",
              "      <td>An adorable romper! Belt and zipper were a lit...</td>\n",
              "      <td>hourglass</td>\n",
              "      <td>So many compliments!</td>\n",
              "      <td>romper</td>\n",
              "      <td>5' 8\"</td>\n",
              "      <td>14</td>\n",
              "      <td>28.0</td>\n",
              "      <td>April 20, 2016</td>\n",
              "    </tr>\n",
              "    <tr>\n",
              "      <th>1</th>\n",
              "      <td>fit</td>\n",
              "      <td>273551</td>\n",
              "      <td>34b</td>\n",
              "      <td>153475</td>\n",
              "      <td>132lbs</td>\n",
              "      <td>10.0</td>\n",
              "      <td>other</td>\n",
              "      <td>I rented this dress for a photo shoot. The the...</td>\n",
              "      <td>straight &amp; narrow</td>\n",
              "      <td>I felt so glamourous!!!</td>\n",
              "      <td>gown</td>\n",
              "      <td>5' 6\"</td>\n",
              "      <td>12</td>\n",
              "      <td>36.0</td>\n",
              "      <td>June 18, 2013</td>\n",
              "    </tr>\n",
              "    <tr>\n",
              "      <th>2</th>\n",
              "      <td>fit</td>\n",
              "      <td>360448</td>\n",
              "      <td>NaN</td>\n",
              "      <td>1063761</td>\n",
              "      <td>NaN</td>\n",
              "      <td>10.0</td>\n",
              "      <td>party</td>\n",
              "      <td>This hugged in all the right places! It was a ...</td>\n",
              "      <td>NaN</td>\n",
              "      <td>It was a great time to celebrate the (almost) ...</td>\n",
              "      <td>sheath</td>\n",
              "      <td>5' 4\"</td>\n",
              "      <td>4</td>\n",
              "      <td>116.0</td>\n",
              "      <td>December 14, 2015</td>\n",
              "    </tr>\n",
              "    <tr>\n",
              "      <th>3</th>\n",
              "      <td>fit</td>\n",
              "      <td>909926</td>\n",
              "      <td>34c</td>\n",
              "      <td>126335</td>\n",
              "      <td>135lbs</td>\n",
              "      <td>8.0</td>\n",
              "      <td>formal affair</td>\n",
              "      <td>I rented this for my company's black tie award...</td>\n",
              "      <td>pear</td>\n",
              "      <td>Dress arrived on time and in perfect condition.</td>\n",
              "      <td>dress</td>\n",
              "      <td>5' 5\"</td>\n",
              "      <td>8</td>\n",
              "      <td>34.0</td>\n",
              "      <td>February 12, 2014</td>\n",
              "    </tr>\n",
              "    <tr>\n",
              "      <th>4</th>\n",
              "      <td>fit</td>\n",
              "      <td>151944</td>\n",
              "      <td>34b</td>\n",
              "      <td>616682</td>\n",
              "      <td>145lbs</td>\n",
              "      <td>10.0</td>\n",
              "      <td>wedding</td>\n",
              "      <td>I have always been petite in my upper body and...</td>\n",
              "      <td>athletic</td>\n",
              "      <td>Was in love with this dress !!!</td>\n",
              "      <td>gown</td>\n",
              "      <td>5' 9\"</td>\n",
              "      <td>12</td>\n",
              "      <td>27.0</td>\n",
              "      <td>September 26, 2016</td>\n",
              "    </tr>\n",
              "  </tbody>\n",
              "</table>\n",
              "</div>"
            ],
            "text/plain": [
              "   fit  user_id bust size  item_id  ... height  size    age         review_date\n",
              "0  fit   420272       34d  2260466  ...  5' 8\"    14   28.0      April 20, 2016\n",
              "1  fit   273551       34b   153475  ...  5' 6\"    12   36.0       June 18, 2013\n",
              "2  fit   360448       NaN  1063761  ...  5' 4\"     4  116.0   December 14, 2015\n",
              "3  fit   909926       34c   126335  ...  5' 5\"     8   34.0   February 12, 2014\n",
              "4  fit   151944       34b   616682  ...  5' 9\"    12   27.0  September 26, 2016\n",
              "\n",
              "[5 rows x 15 columns]"
            ]
          },
          "metadata": {},
          "execution_count": 54
        }
      ]
    },
    {
      "cell_type": "markdown",
      "metadata": {
        "id": "MZPMOfFJAO1i"
      },
      "source": [
        "**Double click to edit** \n",
        "\n",
        "Fill in the blanks\n",
        "\n",
        "* In the dataframe `rent`, one row represents the data for one Clothing Review\n",
        "\n",
        "To construct a dataframe that has 1 row = 1 category and summarize the number of rows per category:\n",
        "\n",
        "* Which variable should you groupby? ________________\n",
        "* Which variable can you summarize? ________________\n",
        "* Which summary function should you use? ________________"
      ]
    },
    {
      "cell_type": "code",
      "metadata": {
        "id": "-mOv_wAQuEe8"
      },
      "source": [
        "# execute the groupby to construct the desired dataframe (remember to add .reset_index() to the end of the groupby statement)\n",
        "# call the resulting dataframe (assign to this variable): count100\n",
        "rent = rent.groupby(['rented for', 'category'])['rating'].mean().reset_index()\n"
      ],
      "execution_count": 56,
      "outputs": []
    },
    {
      "cell_type": "code",
      "metadata": {
        "id": "-mMBmLcB_l4b",
        "colab": {
          "base_uri": "https://localhost:8080/",
          "height": 419
        },
        "outputId": "5fec01bc-7b3c-4b56-dd13-7c661ccaeb60"
      },
      "source": [
        "# rename the columns to 'category' and 'obs'\n",
        "\n",
        "rent\n"
      ],
      "execution_count": 57,
      "outputs": [
        {
          "output_type": "execute_result",
          "data": {
            "text/html": [
              "<div>\n",
              "<style scoped>\n",
              "    .dataframe tbody tr th:only-of-type {\n",
              "        vertical-align: middle;\n",
              "    }\n",
              "\n",
              "    .dataframe tbody tr th {\n",
              "        vertical-align: top;\n",
              "    }\n",
              "\n",
              "    .dataframe thead th {\n",
              "        text-align: right;\n",
              "    }\n",
              "</style>\n",
              "<table border=\"1\" class=\"dataframe\">\n",
              "  <thead>\n",
              "    <tr style=\"text-align: right;\">\n",
              "      <th></th>\n",
              "      <th>rented for</th>\n",
              "      <th>category</th>\n",
              "      <th>rating</th>\n",
              "    </tr>\n",
              "  </thead>\n",
              "  <tbody>\n",
              "    <tr>\n",
              "      <th>0</th>\n",
              "      <td>date</td>\n",
              "      <td>blazer</td>\n",
              "      <td>9.241379</td>\n",
              "    </tr>\n",
              "    <tr>\n",
              "      <th>1</th>\n",
              "      <td>date</td>\n",
              "      <td>blouse</td>\n",
              "      <td>9.137255</td>\n",
              "    </tr>\n",
              "    <tr>\n",
              "      <th>2</th>\n",
              "      <td>date</td>\n",
              "      <td>blouson</td>\n",
              "      <td>9.000000</td>\n",
              "    </tr>\n",
              "    <tr>\n",
              "      <th>3</th>\n",
              "      <td>date</td>\n",
              "      <td>bomber</td>\n",
              "      <td>9.500000</td>\n",
              "    </tr>\n",
              "    <tr>\n",
              "      <th>4</th>\n",
              "      <td>date</td>\n",
              "      <td>cami</td>\n",
              "      <td>10.000000</td>\n",
              "    </tr>\n",
              "    <tr>\n",
              "      <th>...</th>\n",
              "      <td>...</td>\n",
              "      <td>...</td>\n",
              "      <td>...</td>\n",
              "    </tr>\n",
              "    <tr>\n",
              "      <th>351</th>\n",
              "      <td>work</td>\n",
              "      <td>trouser</td>\n",
              "      <td>9.250000</td>\n",
              "    </tr>\n",
              "    <tr>\n",
              "      <th>352</th>\n",
              "      <td>work</td>\n",
              "      <td>trousers</td>\n",
              "      <td>9.000000</td>\n",
              "    </tr>\n",
              "    <tr>\n",
              "      <th>353</th>\n",
              "      <td>work</td>\n",
              "      <td>tunic</td>\n",
              "      <td>9.333333</td>\n",
              "    </tr>\n",
              "    <tr>\n",
              "      <th>354</th>\n",
              "      <td>work</td>\n",
              "      <td>turtleneck</td>\n",
              "      <td>9.555556</td>\n",
              "    </tr>\n",
              "    <tr>\n",
              "      <th>355</th>\n",
              "      <td>work</td>\n",
              "      <td>vest</td>\n",
              "      <td>9.111111</td>\n",
              "    </tr>\n",
              "  </tbody>\n",
              "</table>\n",
              "<p>356 rows × 3 columns</p>\n",
              "</div>"
            ],
            "text/plain": [
              "    rented for    category     rating\n",
              "0         date      blazer   9.241379\n",
              "1         date      blouse   9.137255\n",
              "2         date     blouson   9.000000\n",
              "3         date      bomber   9.500000\n",
              "4         date        cami  10.000000\n",
              "..         ...         ...        ...\n",
              "351       work     trouser   9.250000\n",
              "352       work    trousers   9.000000\n",
              "353       work       tunic   9.333333\n",
              "354       work  turtleneck   9.555556\n",
              "355       work        vest   9.111111\n",
              "\n",
              "[356 rows x 3 columns]"
            ]
          },
          "metadata": {},
          "execution_count": 57
        }
      ]
    },
    {
      "cell_type": "code",
      "metadata": {
        "id": "HAVYPu6kYTTX"
      },
      "source": [
        "count100 = rent\n"
      ],
      "execution_count": 59,
      "outputs": []
    },
    {
      "cell_type": "code",
      "metadata": {
        "colab": {
          "base_uri": "https://localhost:8080/",
          "height": 419
        },
        "id": "uDqH_LbWYY4A",
        "outputId": "33e80237-7685-49ae-adbc-5a86db7f3579"
      },
      "source": [
        "count100"
      ],
      "execution_count": 60,
      "outputs": [
        {
          "output_type": "execute_result",
          "data": {
            "text/html": [
              "<div>\n",
              "<style scoped>\n",
              "    .dataframe tbody tr th:only-of-type {\n",
              "        vertical-align: middle;\n",
              "    }\n",
              "\n",
              "    .dataframe tbody tr th {\n",
              "        vertical-align: top;\n",
              "    }\n",
              "\n",
              "    .dataframe thead th {\n",
              "        text-align: right;\n",
              "    }\n",
              "</style>\n",
              "<table border=\"1\" class=\"dataframe\">\n",
              "  <thead>\n",
              "    <tr style=\"text-align: right;\">\n",
              "      <th></th>\n",
              "      <th>rented for</th>\n",
              "      <th>category</th>\n",
              "      <th>rating</th>\n",
              "    </tr>\n",
              "  </thead>\n",
              "  <tbody>\n",
              "    <tr>\n",
              "      <th>0</th>\n",
              "      <td>date</td>\n",
              "      <td>blazer</td>\n",
              "      <td>9.241379</td>\n",
              "    </tr>\n",
              "    <tr>\n",
              "      <th>1</th>\n",
              "      <td>date</td>\n",
              "      <td>blouse</td>\n",
              "      <td>9.137255</td>\n",
              "    </tr>\n",
              "    <tr>\n",
              "      <th>2</th>\n",
              "      <td>date</td>\n",
              "      <td>blouson</td>\n",
              "      <td>9.000000</td>\n",
              "    </tr>\n",
              "    <tr>\n",
              "      <th>3</th>\n",
              "      <td>date</td>\n",
              "      <td>bomber</td>\n",
              "      <td>9.500000</td>\n",
              "    </tr>\n",
              "    <tr>\n",
              "      <th>4</th>\n",
              "      <td>date</td>\n",
              "      <td>cami</td>\n",
              "      <td>10.000000</td>\n",
              "    </tr>\n",
              "    <tr>\n",
              "      <th>...</th>\n",
              "      <td>...</td>\n",
              "      <td>...</td>\n",
              "      <td>...</td>\n",
              "    </tr>\n",
              "    <tr>\n",
              "      <th>351</th>\n",
              "      <td>work</td>\n",
              "      <td>trouser</td>\n",
              "      <td>9.250000</td>\n",
              "    </tr>\n",
              "    <tr>\n",
              "      <th>352</th>\n",
              "      <td>work</td>\n",
              "      <td>trousers</td>\n",
              "      <td>9.000000</td>\n",
              "    </tr>\n",
              "    <tr>\n",
              "      <th>353</th>\n",
              "      <td>work</td>\n",
              "      <td>tunic</td>\n",
              "      <td>9.333333</td>\n",
              "    </tr>\n",
              "    <tr>\n",
              "      <th>354</th>\n",
              "      <td>work</td>\n",
              "      <td>turtleneck</td>\n",
              "      <td>9.555556</td>\n",
              "    </tr>\n",
              "    <tr>\n",
              "      <th>355</th>\n",
              "      <td>work</td>\n",
              "      <td>vest</td>\n",
              "      <td>9.111111</td>\n",
              "    </tr>\n",
              "  </tbody>\n",
              "</table>\n",
              "<p>356 rows × 3 columns</p>\n",
              "</div>"
            ],
            "text/plain": [
              "    rented for    category     rating\n",
              "0         date      blazer   9.241379\n",
              "1         date      blouse   9.137255\n",
              "2         date     blouson   9.000000\n",
              "3         date      bomber   9.500000\n",
              "4         date        cami  10.000000\n",
              "..         ...         ...        ...\n",
              "351       work     trouser   9.250000\n",
              "352       work    trousers   9.000000\n",
              "353       work       tunic   9.333333\n",
              "354       work  turtleneck   9.555556\n",
              "355       work        vest   9.111111\n",
              "\n",
              "[356 rows x 3 columns]"
            ]
          },
          "metadata": {},
          "execution_count": 60
        }
      ]
    },
    {
      "cell_type": "markdown",
      "metadata": {
        "id": "8ypiCXL-esfU"
      },
      "source": [
        "**Double click to edit**\\\n",
        "Fill in the blanks\n",
        "\n",
        "To merge `cat100` and `rent`, we should use ____________ as the left dataframe and ____________ as the right dataframe.\n",
        "\n",
        "We should merge on the variable _____________________\n",
        "\n",
        "We will use an inner merge."
      ]
    },
    {
      "cell_type": "code",
      "metadata": {
        "id": "-tvG0jrP_l63"
      },
      "source": [
        "# merge count100 with the rent, reuse the variable rent by replacing it with the result of the merge\n",
        "\n",
        "\n"
      ],
      "execution_count": null,
      "outputs": []
    },
    {
      "cell_type": "code",
      "metadata": {
        "id": "LpMO5BR6_l9X"
      },
      "source": [
        "# preview rent dataframe to show that there's a new column: \"obs\"\n",
        "\n",
        "\n"
      ],
      "execution_count": null,
      "outputs": []
    },
    {
      "cell_type": "code",
      "metadata": {
        "id": "KsJ85O8gDcQh"
      },
      "source": [
        "# what are the unique values in fit column? select the fit column and use the .unique() method\n",
        "\n"
      ],
      "execution_count": null,
      "outputs": []
    },
    {
      "cell_type": "code",
      "metadata": {
        "id": "xYPF1yMiCYnu"
      },
      "source": [
        "# create a column in rent called 'fit1'\n",
        "\n",
        "# first initialize the fit1 column where all observations in the column are 0's \n",
        "# modify the generic syntax df['column name'] = 0\n",
        "\n",
        "\n",
        "# select the subset of fit1 column where fit column has the value \"fit\"\n",
        "## e.g. select rows where fit column has the value 'fit' and the column 'fit1'\n",
        "## set these rows of the fit1 column = 1 (modify the syntax df.loc[conditions, 'column name'] = 1)\n",
        "\n"
      ],
      "execution_count": null,
      "outputs": []
    },
    {
      "cell_type": "code",
      "metadata": {
        "id": "i3td273tCYqd"
      },
      "source": [
        "# sample 20 random rows of the rent dataframe, make sure the fit1 column corresponds\n",
        "# to the correct rows as indicated by the fit column\n",
        "# (run the code several times if you don't see any rows that indicate item did not fit (fit1 is 0))\n",
        "\n",
        "\n"
      ],
      "execution_count": null,
      "outputs": []
    },
    {
      "cell_type": "code",
      "metadata": {
        "id": "2naC6j5HNtEs"
      },
      "source": [
        "# Create a new dataframe, rent100, that is the subset of rows of rent that come from categories with at least 100 observations\n",
        "# Modify the generic syntax newdf = olddf.loc[condition]\n",
        "\n"
      ],
      "execution_count": null,
      "outputs": []
    },
    {
      "cell_type": "markdown",
      "metadata": {
        "id": "vCNH2vXIOH8Q"
      },
      "source": [
        "**Double click to edit** \n",
        "\n",
        "To construct a dataframe that has 1 row = 1 category and summarize the proportion of rental reviews that indicate the item from that category fits\n",
        "\n",
        "* Which variable should you groupby? ________________\n",
        "* Which variable can you summarize? ________________\n",
        "* Which summary function should you use? ________________"
      ]
    },
    {
      "cell_type": "code",
      "metadata": {
        "id": "Hp9A-D-KN4Jm"
      },
      "source": [
        "# execute the groupby\n",
        "# (remember to add .reset_index() to the end of the groupby statement)\n",
        "# call the resulting dataframe (assign to this variable): fit100 \n",
        "\n",
        "\n"
      ],
      "execution_count": null,
      "outputs": []
    },
    {
      "cell_type": "code",
      "metadata": {
        "id": "JEPO4bFNOmwk"
      },
      "source": [
        "# display the fit100 dataframe, make sure it contains the expected information\n",
        "# e.g. category and proportion of fit\n",
        "\n",
        "\n"
      ],
      "execution_count": null,
      "outputs": []
    },
    {
      "cell_type": "code",
      "metadata": {
        "id": "wPu1WdjDO8uI"
      },
      "source": [
        "# sort this fit100 dataframe from smallest to largest proportion\n",
        "# be sure to specify the inplace = True option to alter the dataframe\n",
        "# we need this step to make the resulting bar plot ordered from shortest \n",
        "# to tallest bar\n",
        "# modify the generic syntax df.sort_values(by = 'sort column name', inplace = True)\n",
        "\n"
      ],
      "execution_count": null,
      "outputs": []
    },
    {
      "cell_type": "code",
      "metadata": {
        "id": "pxKzwDw4PKhS"
      },
      "source": [
        "# display the resulting dataframe again to make sure it is properly sorted\n",
        "\n"
      ],
      "execution_count": null,
      "outputs": []
    },
    {
      "cell_type": "code",
      "metadata": {
        "id": "EGNjRhFgPNfi"
      },
      "source": [
        "# construct the bar plot\n",
        "# make the bar plot easy to read by:\n",
        "# adjust the figure size\n",
        "# x-axis labels degrees\n",
        "# other appearance parameters\n",
        "\n",
        "# MAKE SURE TO LABEL YOUR AXES\n",
        "\n",
        "\n",
        "\n"
      ],
      "execution_count": null,
      "outputs": []
    },
    {
      "cell_type": "markdown",
      "metadata": {
        "id": "eAU2QYmLQxEy"
      },
      "source": [
        "**Double Click to Edit**\n",
        "1. The category that fit best is _______________________.\n",
        "    1. The category that fit worst is _______________________.\n",
        "1. (Explain why the plot makes (or doesn't make) sense. Write at least 4 sentences.)\n",
        "1. Two strategies that can mitigate the fit issues are:\n",
        "    1. (Explain first strategy)\n",
        "    1. (Explain second strategy)"
      ]
    },
    {
      "cell_type": "markdown",
      "metadata": {
        "id": "rnyuRIKAQKDb"
      },
      "source": [
        "# 2. (5 points) Scatter plot - Orange Telecom\n",
        "\n",
        "Create 2 plots: \n",
        "\n",
        "First, construct a scatter plot that visualizes the relationship between the number of calls made and the cost per call paid.\n",
        "\n",
        "Second, construct a scatter plot that visualizes total minutes used and average rate paid per minute, use color to indicate churned customers.\n",
        "\n",
        "Note that customer **churn** is the marketing term for a customer who has defected / ended the business relationship (cancelled their contract).\n",
        "\n",
        "Be sure to:\n",
        "1. **adjust the sizes / colors / transparency** of the points to be visually appealing.\n",
        "1. Label your axes\n",
        "\n",
        "Questions:\n",
        "1. Describe the relationship between number of calls and cost per call.\n",
        "    1. What might explain this relationship?\n",
        "1. Describe any differences in the usage patterns among customers who have churned vs. those who have not?\n",
        "    1. What might cause the(se) difference(s)?\n",
        "\n",
        "**Follow the detailed prompts below**"
      ]
    },
    {
      "cell_type": "code",
      "metadata": {
        "id": "wSshGBf-Xero"
      },
      "source": [
        "# read in your dataset using read_csv(fpath + 'telecom_churn.csv')\n",
        "# call the dataframe orange\n",
        "\n",
        "\n"
      ],
      "execution_count": null,
      "outputs": []
    },
    {
      "cell_type": "code",
      "metadata": {
        "id": "5AhB8AS-S62h"
      },
      "source": [
        "# preview the first 5 rows to get a sense of this data\n",
        "\n",
        "\n"
      ],
      "execution_count": null,
      "outputs": []
    },
    {
      "cell_type": "markdown",
      "metadata": {
        "id": "c2VIULQ2S7Oe"
      },
      "source": [
        "**Double click to edit**\n",
        "Fill in the blank\n",
        "1. Each row represents the data for one _______________________."
      ]
    },
    {
      "cell_type": "code",
      "metadata": {
        "id": "4jnEBcT3TRTk"
      },
      "source": [
        "# create 3 new columns:\n",
        "# 'Total_Minutes': sum of total day, eve, night, and international minutes\n",
        "# 'Total_Charges' sum of total day, eve, night, and international charges\n",
        "# 'Total_Calls' sum of total day, eve, night, and international calls\n",
        "\n",
        "\n",
        "\n",
        "\n"
      ],
      "execution_count": null,
      "outputs": []
    },
    {
      "cell_type": "code",
      "metadata": {
        "id": "JfUwrKTuXmhs"
      },
      "source": [
        "# create 2 additional columns\n",
        "# 'Avg_Rate': the average charge per minute (use columns created above to help you make the new column)\n",
        "# 'Cost_Per_Call': the average charge per call (use columns created above to help you make the new column)\n",
        "\n",
        "\n",
        "\n"
      ],
      "execution_count": null,
      "outputs": []
    },
    {
      "cell_type": "code",
      "metadata": {
        "id": "J5bElqxmT1mq"
      },
      "source": [
        "# Create the first scatter plot\n",
        "# Use the x-axis for number of calls\n",
        "# Use the y-axis for the cost per call\n",
        "# Label both axes\n",
        "# play with plotting parameters (size, alpha, figure size, etc.) to make the plot more appealing\n",
        "# make the figure size 10 x 8\n",
        "\n",
        "\n",
        "\n",
        "\n",
        "\n",
        "\n",
        "\n"
      ],
      "execution_count": null,
      "outputs": []
    },
    {
      "cell_type": "markdown",
      "metadata": {
        "id": "M3ggC0AkT6CG"
      },
      "source": [
        "**Double Click to Edit**\n",
        "\n",
        "Answers\n",
        "\n",
        "1. (Describe the relationship between calls and cost per call)\n",
        "    1. (Reason 1 for why this relatinship may exist)\n",
        "    1. (Reason 2 for why this relationship may exist)"
      ]
    },
    {
      "cell_type": "code",
      "metadata": {
        "id": "f1Osm15zT4OS"
      },
      "source": [
        "## Create the second plot\n",
        "# this figure requires making 2 plots on the same figure: one for churned, one for not \n",
        "# (e.g. select the rows that are churned (or not) and the appropriate column for the x and y values that go into the scatter plot function)\n",
        "# Recall, you can select a subset of a particular column using the syntax: df.loc[conditions, 'column name']\n",
        "# note the condition to select churned (not) customer should be orange.Churn == True (orange.Churn == False)\n",
        "\n",
        "# make the churned group color red\n",
        "# make the not churned group color green\n",
        "\n",
        "# adjust the transparency, dot size, etc. to make the figure appealing\n",
        "# CREATE A LEGEND, make sure the legend is legible\n",
        "# make the figure size 10 x 8\n",
        "\n",
        "\n",
        "\n",
        "\n",
        "\n",
        "\n",
        "\n",
        "\n",
        "\n",
        "\n",
        "\n"
      ],
      "execution_count": null,
      "outputs": []
    },
    {
      "cell_type": "markdown",
      "metadata": {
        "id": "aNOpbiz2bGni"
      },
      "source": [
        "**Double Click to Edit**\n",
        "\n",
        "Answers\n",
        "\n",
        "1. (Describe what kind of customers are especially likely to churn)\n",
        "    1. (State a reason for why this may be the case)"
      ]
    }
  ]
}