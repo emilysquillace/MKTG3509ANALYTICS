{
  "nbformat": 4,
  "nbformat_minor": 0,
  "metadata": {
    "colab": {
      "name": "A3 Emily Squillace",
      "provenance": [],
      "collapsed_sections": []
    },
    "kernelspec": {
      "name": "python3",
      "display_name": "Python 3"
    }
  },
  "cells": [
    {
      "cell_type": "markdown",
      "metadata": {
        "id": "fQCckftPtiho"
      },
      "source": [
        "# Assignment 3 - Working with data\n",
        "\n",
        "**Rationale**. In this assignment, you will practice reading/writing common dataset formats, execute conditional subsetting of data, merge data, and perform groupby summaries. \n",
        "\n",
        "Please comment your code for potential partial credit and to explain to me that you understand what you are doing. As always, feel free to add additional cells.\n",
        "\n",
        "For any questions that requires a **text answer: make sure to type your answers in a text cell.**\n",
        "\n",
        "(Make sure you've ) Save(d) the [datasets](https://drive.google.com/drive/folders/1wpphG0kRidK8W9DT79spBufId8jWCUvC?usp=sharing) in this folder to your Google Drive.\n",
        "\n",
        "1. [Quebec Yelp Reviews](https://drive.google.com/file/d/1pmnps16-kI8VJaIizNXaOFyW0IZs_pZo/view?usp=sharing)\n",
        "1.  [Quebec Business Info](https://drive.google.com/file/d/1eT72WiYI7xXT7wiNfo2w1uhxVC0qIage/view?usp=sharing)\n"
      ]
    },
    {
      "cell_type": "code",
      "metadata": {
        "colab": {
          "base_uri": "https://localhost:8080/"
        },
        "id": "Zd9CMkZK_CzM",
        "outputId": "faae26fe-c86c-41ab-d3c4-1ba7f37a697b"
      },
      "source": [
        "# first, mount your GDrive\n",
        "from google.colab import drive\n",
        "drive.mount('drive')"
      ],
      "execution_count": null,
      "outputs": [
        {
          "output_type": "stream",
          "name": "stdout",
          "text": [
            "Drive already mounted at drive; to attempt to forcibly remount, call drive.mount(\"drive\", force_remount=True).\n"
          ]
        }
      ]
    },
    {
      "cell_type": "code",
      "metadata": {
        "colab": {
          "base_uri": "https://localhost:8080/"
        },
        "id": "j3oVlH8Gn-0k",
        "outputId": "9e28ad2e-430d-43cb-d753-d9c49f8ad5be"
      },
      "source": [
        "from google.colab import drive\n",
        "drive.mount('drive')"
      ],
      "execution_count": null,
      "outputs": [
        {
          "output_type": "stream",
          "name": "stdout",
          "text": [
            "Drive already mounted at drive; to attempt to forcibly remount, call drive.mount(\"drive\", force_remount=True).\n"
          ]
        }
      ]
    },
    {
      "cell_type": "code",
      "metadata": {
        "colab": {
          "base_uri": "https://localhost:8080/"
        },
        "id": "J7jQCJm8of_p",
        "outputId": "c6b1d03d-3dbc-4e77-848c-005ce85a4faa"
      },
      "source": [
        "import os\n",
        "import pandas as pd\n",
        "fpath = 'drive/MyDrive/marketing3509/' # put your filepath here\n",
        "os.listdir(fpath)"
      ],
      "execution_count": null,
      "outputs": [
        {
          "output_type": "execute_result",
          "data": {
            "text/plain": [
              "['Practice 8 31.ipynb',\n",
              " 'A1 Emily Squillace',\n",
              " 'A2 Emily Squillace',\n",
              " 'Notes 9 9.ipynb',\n",
              " 'Features data set.csv',\n",
              " 'merged_sales.csv',\n",
              " 'sales data-set.csv',\n",
              " 'stores A data-set.csv',\n",
              " 'stores B data-set.csv',\n",
              " 'stores C data-set.csv',\n",
              " 'stores data-set.csv',\n",
              " 'avocado.csv',\n",
              " 'avocado.json',\n",
              " 'avocado (1).xlsx',\n",
              " 'avocado.xlsx',\n",
              " 'movies.csv',\n",
              " 'ratings_time.csv',\n",
              " 'quebec_biz (1).csv',\n",
              " 'quebec_yelp_reviews (1).csv',\n",
              " 'In Class Module 9 14.ipynb',\n",
              " 'quebec_biz.csv',\n",
              " 'quebec_yelp_reviews.csv',\n",
              " 'caliprices.png',\n",
              " 'A3 Emily Squillace.ipynb']"
            ]
          },
          "metadata": {},
          "execution_count": 6
        }
      ]
    },
    {
      "cell_type": "markdown",
      "metadata": {
        "id": "qzhQQ8p7ukHQ"
      },
      "source": [
        "# Problem 1 (2 points)\n",
        "\n",
        "Read in the Quebec Yelp dataset from your Google Drive. Make sure that there are no \"Unnamed\" columns - if so, you've read in the index_col as a regular column. Make sure that the index corresponds to the row of the dataset using the `.reset_index` method. Convert \"Date\" column to a Pandas datetime format.\n",
        "\n",
        "1. What is the observational unit of this dataset? (What does each row represent?)\n",
        "1. How many rows are in this dataset? columns?\n",
        "1. When was the earliest review written? latest?"
      ]
    },
    {
      "cell_type": "markdown",
      "metadata": {
        "id": "TC-OPIJ4bahe"
      },
      "source": [
        "## Problem 1 Answers (edit this cell)\n",
        "\n",
        "1. Each row represents one **review**.\n",
        "1. There are **208166** rows in the dataset\n",
        "    1. There are **9** columns in the dataset excluding the index.\n",
        "1. The first review is written on **   2007-01-02**.\n",
        "    1. The last review is written on **2019-12-13**."
      ]
    },
    {
      "cell_type": "code",
      "metadata": {
        "id": "BQaBBKSe_eyv"
      },
      "source": [
        "# import any necessary libraries here\n",
        "\n"
      ],
      "execution_count": null,
      "outputs": []
    },
    {
      "cell_type": "code",
      "metadata": {
        "id": "9NL2eM9K_hSp",
        "colab": {
          "base_uri": "https://localhost:8080/"
        },
        "outputId": "1846f2c7-cdbb-45aa-d3fd-b0d1ad1aa3e8"
      },
      "source": [
        "# First, list the folder containing your data\n",
        "fpath = 'drive/MyDrive/marketing3509/'\n",
        "os.listdir(fpath)\n",
        "# os.listdir(fpath) \n",
        "# this should return a list containing the quebec_biz \n",
        "# and quebec_yelp_reviews datasets\n",
        "\n"
      ],
      "execution_count": null,
      "outputs": [
        {
          "output_type": "execute_result",
          "data": {
            "text/plain": [
              "['Practice 8 31.ipynb',\n",
              " 'A1 Emily Squillace',\n",
              " 'A2 Emily Squillace',\n",
              " 'Notes 9 9.ipynb',\n",
              " 'Features data set.csv',\n",
              " 'merged_sales.csv',\n",
              " 'sales data-set.csv',\n",
              " 'stores A data-set.csv',\n",
              " 'stores B data-set.csv',\n",
              " 'stores C data-set.csv',\n",
              " 'stores data-set.csv',\n",
              " 'avocado.csv',\n",
              " 'avocado.json',\n",
              " 'avocado (1).xlsx',\n",
              " 'avocado.xlsx',\n",
              " 'movies.csv',\n",
              " 'ratings_time.csv',\n",
              " 'quebec_biz (1).csv',\n",
              " 'quebec_yelp_reviews (1).csv',\n",
              " 'In Class Module 9 14.ipynb',\n",
              " 'quebec_biz.csv',\n",
              " 'quebec_yelp_reviews.csv',\n",
              " 'caliprices.png',\n",
              " 'A3 Emily Squillace.ipynb']"
            ]
          },
          "metadata": {},
          "execution_count": 8
        }
      ]
    },
    {
      "cell_type": "code",
      "metadata": {
        "id": "6biVqdDRABiK"
      },
      "source": [
        "# read in the reviews data\n",
        "# pick a variable name for the reviews dataframe\n",
        "# and set its value by reading in the appropriate dataset\n",
        "yelp = pd.read_csv(fpath + 'quebec_yelp_reviews.csv', index_col = 0)\n",
        "biz = pd.read_csv(fpath + 'quebec_biz.csv', index_col = 0)\n",
        "# you can call the dataframe something other than df\n",
        "\n"
      ],
      "execution_count": null,
      "outputs": []
    },
    {
      "cell_type": "code",
      "metadata": {
        "id": "iAeNSzxJCdw0",
        "colab": {
          "base_uri": "https://localhost:8080/",
          "height": 530
        },
        "outputId": "dc6eb980-cf39-496d-db63-fdcb38700da8"
      },
      "source": [
        "# preview the dataframe's first 5 rows using the .head() method\n",
        "yelp.head()\n",
        "biz.head()\n",
        "# what unit of observation does each row represent?\n",
        "# one review \n"
      ],
      "execution_count": null,
      "outputs": [
        {
          "output_type": "execute_result",
          "data": {
            "text/html": [
              "<div>\n",
              "<style scoped>\n",
              "    .dataframe tbody tr th:only-of-type {\n",
              "        vertical-align: middle;\n",
              "    }\n",
              "\n",
              "    .dataframe tbody tr th {\n",
              "        vertical-align: top;\n",
              "    }\n",
              "\n",
              "    .dataframe thead th {\n",
              "        text-align: right;\n",
              "    }\n",
              "</style>\n",
              "<table border=\"1\" class=\"dataframe\">\n",
              "  <thead>\n",
              "    <tr style=\"text-align: right;\">\n",
              "      <th></th>\n",
              "      <th>business_id</th>\n",
              "      <th>name</th>\n",
              "      <th>address</th>\n",
              "      <th>city</th>\n",
              "      <th>state</th>\n",
              "      <th>postal_code</th>\n",
              "      <th>latitude</th>\n",
              "      <th>longitude</th>\n",
              "      <th>biz_stars</th>\n",
              "      <th>review_count</th>\n",
              "      <th>is_open</th>\n",
              "      <th>attributes</th>\n",
              "      <th>categories</th>\n",
              "      <th>hours</th>\n",
              "    </tr>\n",
              "  </thead>\n",
              "  <tbody>\n",
              "    <tr>\n",
              "      <th>2</th>\n",
              "      <td>XNoUzKckATkOD1hP6vghZg</td>\n",
              "      <td>Felinus</td>\n",
              "      <td>3554 Rue Notre-Dame O</td>\n",
              "      <td>Montreal</td>\n",
              "      <td>QC</td>\n",
              "      <td>H4C 1P4</td>\n",
              "      <td>45.479984</td>\n",
              "      <td>-73.580070</td>\n",
              "      <td>5.0</td>\n",
              "      <td>5</td>\n",
              "      <td>1</td>\n",
              "      <td>NaN</td>\n",
              "      <td>Pets, Pet Services, Pet Groomers</td>\n",
              "      <td>NaN</td>\n",
              "    </tr>\n",
              "    <tr>\n",
              "      <th>31</th>\n",
              "      <td>pcaQDBM6r0PWTXfYZK6RdA</td>\n",
              "      <td>IGA Extra</td>\n",
              "      <td>8130 Boulevard Champlain</td>\n",
              "      <td>Lasalle</td>\n",
              "      <td>QC</td>\n",
              "      <td>H8P 1B4</td>\n",
              "      <td>45.425645</td>\n",
              "      <td>-73.611934</td>\n",
              "      <td>3.0</td>\n",
              "      <td>6</td>\n",
              "      <td>1</td>\n",
              "      <td>{'BusinessParking': \"{'garage': False, 'street...</td>\n",
              "      <td>Food, Grocery</td>\n",
              "      <td>{'Monday': '8:0-22:0', 'Tuesday': '8:0-22:0', ...</td>\n",
              "    </tr>\n",
              "    <tr>\n",
              "      <th>43</th>\n",
              "      <td>LoRef3ChgZKbxUio-sHgQg</td>\n",
              "      <td>Amir</td>\n",
              "      <td>5252 Rue Jean Talon O</td>\n",
              "      <td>Montréal</td>\n",
              "      <td>QC</td>\n",
              "      <td>H4P 2A7</td>\n",
              "      <td>45.494870</td>\n",
              "      <td>-73.651904</td>\n",
              "      <td>3.0</td>\n",
              "      <td>18</td>\n",
              "      <td>1</td>\n",
              "      <td>{'RestaurantsAttire': \"u'casual'\", 'Restaurant...</td>\n",
              "      <td>Restaurants, Lebanese, Middle Eastern</td>\n",
              "      <td>NaN</td>\n",
              "    </tr>\n",
              "    <tr>\n",
              "      <th>45</th>\n",
              "      <td>_xOeoXfPUQTNlUAhXl32ug</td>\n",
              "      <td>Starbucks</td>\n",
              "      <td>150 Boulevard Crémazie E</td>\n",
              "      <td>Montréal</td>\n",
              "      <td>QC</td>\n",
              "      <td>H2P 1E2</td>\n",
              "      <td>45.542993</td>\n",
              "      <td>-73.640218</td>\n",
              "      <td>3.5</td>\n",
              "      <td>4</td>\n",
              "      <td>1</td>\n",
              "      <td>{'RestaurantsTakeOut': 'True', 'RestaurantsPri...</td>\n",
              "      <td>Coffee &amp; Tea, Food</td>\n",
              "      <td>{'Monday': '5:30-23:0', 'Tuesday': '5:30-23:0'...</td>\n",
              "    </tr>\n",
              "    <tr>\n",
              "      <th>57</th>\n",
              "      <td>3BfGGIJn8lxvu1k3ZZnL1w</td>\n",
              "      <td>Théâtre Corona</td>\n",
              "      <td>2490 Rue Notre-Dame O</td>\n",
              "      <td>Montréal</td>\n",
              "      <td>QC</td>\n",
              "      <td>H3J 1N5</td>\n",
              "      <td>45.482777</td>\n",
              "      <td>-73.575006</td>\n",
              "      <td>4.0</td>\n",
              "      <td>18</td>\n",
              "      <td>1</td>\n",
              "      <td>{'OutdoorSeating': 'False', 'RestaurantsPriceR...</td>\n",
              "      <td>Nightlife, Arts &amp; Entertainment, Performing Ar...</td>\n",
              "      <td>NaN</td>\n",
              "    </tr>\n",
              "  </tbody>\n",
              "</table>\n",
              "</div>"
            ],
            "text/plain": [
              "               business_id  ...                                              hours\n",
              "2   XNoUzKckATkOD1hP6vghZg  ...                                                NaN\n",
              "31  pcaQDBM6r0PWTXfYZK6RdA  ...  {'Monday': '8:0-22:0', 'Tuesday': '8:0-22:0', ...\n",
              "43  LoRef3ChgZKbxUio-sHgQg  ...                                                NaN\n",
              "45  _xOeoXfPUQTNlUAhXl32ug  ...  {'Monday': '5:30-23:0', 'Tuesday': '5:30-23:0'...\n",
              "57  3BfGGIJn8lxvu1k3ZZnL1w  ...                                                NaN\n",
              "\n",
              "[5 rows x 14 columns]"
            ]
          },
          "metadata": {},
          "execution_count": 10
        }
      ]
    },
    {
      "cell_type": "code",
      "metadata": {
        "id": "urLjFro_CJWB",
        "colab": {
          "base_uri": "https://localhost:8080/"
        },
        "outputId": "e9b3002f-aa18-429c-f21f-0edc9d7926f1"
      },
      "source": [
        "# compute the shape of the dataset to return (rows, columns)\n",
        "# use the .shape method\n",
        "yelp.shape\n"
      ],
      "execution_count": null,
      "outputs": [
        {
          "output_type": "execute_result",
          "data": {
            "text/plain": [
              "(208166, 9)"
            ]
          },
          "metadata": {},
          "execution_count": 11
        }
      ]
    },
    {
      "cell_type": "code",
      "metadata": {
        "id": "BDFGrOypB9zw",
        "colab": {
          "base_uri": "https://localhost:8080/"
        },
        "outputId": "e6a48156-7684-4ce8-8f33-f0a8d372dda3"
      },
      "source": [
        "# take a look at the column names by accessing the dataframe's column attribute,\n",
        "yelp.columns.values\n",
        "\n",
        "\n"
      ],
      "execution_count": null,
      "outputs": [
        {
          "output_type": "execute_result",
          "data": {
            "text/plain": [
              "array(['review_id', 'user_id', 'business_id', 'useful', 'funny', 'cool',\n",
              "       'text', 'date', 'stars'], dtype=object)"
            ]
          },
          "metadata": {},
          "execution_count": 12
        }
      ]
    },
    {
      "cell_type": "code",
      "metadata": {
        "colab": {
          "base_uri": "https://localhost:8080/"
        },
        "id": "uFM00K9i71c5",
        "outputId": "f6349276-0a39-4d10-cbb9-dadbead20e3f"
      },
      "source": [
        "biz.columns.values"
      ],
      "execution_count": null,
      "outputs": [
        {
          "output_type": "execute_result",
          "data": {
            "text/plain": [
              "array(['business_id', 'name', 'address', 'city', 'state', 'postal_code',\n",
              "       'latitude', 'longitude', 'biz_stars', 'review_count', 'is_open',\n",
              "       'attributes', 'categories', 'hours'], dtype=object)"
            ]
          },
          "metadata": {},
          "execution_count": 13
        }
      ]
    },
    {
      "cell_type": "code",
      "metadata": {
        "id": "KfAtvXVtCHnk",
        "colab": {
          "base_uri": "https://localhost:8080/"
        },
        "outputId": "183d483b-ace8-4ead-91cf-ad6e95929739"
      },
      "source": [
        "# find the date column above, convert the column to pandas datetime series\n",
        "# using the pd.to_datetime(....) function\n",
        "pd.to_datetime(yelp.date)\n",
        "\n",
        "\n",
        "\n"
      ],
      "execution_count": null,
      "outputs": [
        {
          "output_type": "execute_result",
          "data": {
            "text/plain": [
              "0        2013-12-29\n",
              "1        2016-07-14\n",
              "2        2012-06-26\n",
              "3        2016-02-24\n",
              "4        2015-05-26\n",
              "            ...    \n",
              "208161   2018-01-14\n",
              "208162   2019-09-06\n",
              "208163   2017-08-19\n",
              "208164   2019-10-29\n",
              "208165   2019-05-05\n",
              "Name: date, Length: 208166, dtype: datetime64[ns]"
            ]
          },
          "metadata": {},
          "execution_count": 14
        }
      ]
    },
    {
      "cell_type": "code",
      "metadata": {
        "colab": {
          "base_uri": "https://localhost:8080/"
        },
        "id": "wxcoOME1_lPo",
        "outputId": "3c0a1065-64f9-430f-8b24-eeb4ac23463f"
      },
      "source": [
        "yelp.date"
      ],
      "execution_count": null,
      "outputs": [
        {
          "output_type": "execute_result",
          "data": {
            "text/plain": [
              "0         2013-12-29\n",
              "1         2016-07-14\n",
              "2         2012-06-26\n",
              "3         2016-02-24\n",
              "4         2015-05-26\n",
              "             ...    \n",
              "208161    2018-01-14\n",
              "208162    2019-09-06\n",
              "208163    2017-08-19\n",
              "208164    2019-10-29\n",
              "208165    2019-05-05\n",
              "Name: date, Length: 208166, dtype: object"
            ]
          },
          "metadata": {},
          "execution_count": 15
        }
      ]
    },
    {
      "cell_type": "code",
      "metadata": {
        "id": "wGI0r7VvCpDB",
        "colab": {
          "base_uri": "https://localhost:8080/"
        },
        "outputId": "bb5bd6e9-51c7-4368-e580-fd32b08eda3e"
      },
      "source": [
        "# find the smallest date (use the .min method)\n",
        "\n",
        "yelp.min()\n"
      ],
      "execution_count": null,
      "outputs": [
        {
          "output_type": "execute_result",
          "data": {
            "text/plain": [
              "review_id                                 ---S_MXC9CMrOMHmS_RDVw\n",
              "user_id                                   --2PnhMMH7EYoY3wywOvgQ\n",
              "business_id                               -0uEqc2vw1xXtuI_r1xTNg\n",
              "useful                                                         0\n",
              "funny                                                          0\n",
              "cool                                                           0\n",
              "text           !! Only great things to say about this place. ...\n",
              "date                                                  2007-01-02\n",
              "stars                                                          1\n",
              "dtype: object"
            ]
          },
          "metadata": {},
          "execution_count": 16
        }
      ]
    },
    {
      "cell_type": "code",
      "metadata": {
        "id": "ANUiN-5WC7lK",
        "colab": {
          "base_uri": "https://localhost:8080/",
          "height": 35
        },
        "outputId": "6d504cf1-c31a-471c-e891-2886de37df66"
      },
      "source": [
        "# find the largest date (use the .max method)\n",
        "\n",
        "yelp.date.max()\n",
        "\n"
      ],
      "execution_count": null,
      "outputs": [
        {
          "output_type": "execute_result",
          "data": {
            "application/vnd.google.colaboratory.intrinsic+json": {
              "type": "string"
            },
            "text/plain": [
              "'2019-12-13'"
            ]
          },
          "metadata": {},
          "execution_count": 17
        }
      ]
    },
    {
      "cell_type": "markdown",
      "metadata": {
        "id": "Vm0lyRZHu5hl"
      },
      "source": [
        "# Problem 2 (2 points)\n",
        "\n",
        "Construct a **new** dataframe by selecting only the reviews written 1) on or after May 1st 2016 **and** 2) before June 1st 2019. **Save it** to an appropriate location on your Google Drive. (feel free to delete it later)"
      ]
    },
    {
      "cell_type": "code",
      "metadata": {
        "colab": {
          "base_uri": "https://localhost:8080/"
        },
        "id": "Ks8M1V4gji_K",
        "outputId": "c96617dc-939b-453f-f773-54e0a0876b8c"
      },
      "source": [
        "from google.colab import drive\n",
        "drive.mount('drive')"
      ],
      "execution_count": null,
      "outputs": [
        {
          "output_type": "stream",
          "name": "stdout",
          "text": [
            "Drive already mounted at drive; to attempt to forcibly remount, call drive.mount(\"drive\", force_remount=True).\n"
          ]
        }
      ]
    },
    {
      "cell_type": "code",
      "metadata": {
        "id": "1bx6Gw-sv6Ht",
        "colab": {
          "base_uri": "https://localhost:8080/",
          "height": 915
        },
        "outputId": "8e76b885-56e0-48ca-cfce-c157e62b7647"
      },
      "source": [
        "# pick a variable name and set it equal to the approriate subset of your dataframe\n",
        "# (you can use the same variable name as the original dataframe)\n",
        "# remember to select the dates with 2 conditions:\n",
        "# >= '2016/5/1'\n",
        "# < '2019/6/1'\n",
        "\n",
        "yelp['date'] = pd.to_datetime(yelp['date'])\n",
        "yelp.date = pd.to_datetime(yelp.date)\n",
        "cond = (yelp.date>='2016/5/1')&(yelp.date<'2019/6/1')\n",
        "temp = yelp.loc[cond]\n",
        "temp"
      ],
      "execution_count": null,
      "outputs": [
        {
          "output_type": "execute_result",
          "data": {
            "text/html": [
              "<div>\n",
              "<style scoped>\n",
              "    .dataframe tbody tr th:only-of-type {\n",
              "        vertical-align: middle;\n",
              "    }\n",
              "\n",
              "    .dataframe tbody tr th {\n",
              "        vertical-align: top;\n",
              "    }\n",
              "\n",
              "    .dataframe thead th {\n",
              "        text-align: right;\n",
              "    }\n",
              "</style>\n",
              "<table border=\"1\" class=\"dataframe\">\n",
              "  <thead>\n",
              "    <tr style=\"text-align: right;\">\n",
              "      <th></th>\n",
              "      <th>review_id</th>\n",
              "      <th>user_id</th>\n",
              "      <th>business_id</th>\n",
              "      <th>useful</th>\n",
              "      <th>funny</th>\n",
              "      <th>cool</th>\n",
              "      <th>text</th>\n",
              "      <th>date</th>\n",
              "      <th>stars</th>\n",
              "    </tr>\n",
              "  </thead>\n",
              "  <tbody>\n",
              "    <tr>\n",
              "      <th>1</th>\n",
              "      <td>uZ66BJLPMx6mJAY_6bi8vQ</td>\n",
              "      <td>kNL4SpfIdMC8GywGayDEOw</td>\n",
              "      <td>tOhRQqiupLyJdBJVQMGOEQ</td>\n",
              "      <td>0</td>\n",
              "      <td>0</td>\n",
              "      <td>0</td>\n",
              "      <td>Montreal bagels were well worth the experience...</td>\n",
              "      <td>2016-07-14</td>\n",
              "      <td>4</td>\n",
              "    </tr>\n",
              "    <tr>\n",
              "      <th>7</th>\n",
              "      <td>Sc0YoR19v2ZHqPjjReMdfQ</td>\n",
              "      <td>8VFNDokKKbpUgCrH6TF9fA</td>\n",
              "      <td>tOhRQqiupLyJdBJVQMGOEQ</td>\n",
              "      <td>0</td>\n",
              "      <td>0</td>\n",
              "      <td>0</td>\n",
              "      <td>Cheap and delicous! I definently understand wh...</td>\n",
              "      <td>2016-09-19</td>\n",
              "      <td>4</td>\n",
              "    </tr>\n",
              "    <tr>\n",
              "      <th>10</th>\n",
              "      <td>uZnzhtYAXAO_4ICeWOq9_A</td>\n",
              "      <td>bemY1DWj0rOLIPUBRnfkjg</td>\n",
              "      <td>tOhRQqiupLyJdBJVQMGOEQ</td>\n",
              "      <td>0</td>\n",
              "      <td>0</td>\n",
              "      <td>0</td>\n",
              "      <td>Coming from a NYCer... This place is an absolu...</td>\n",
              "      <td>2018-09-03</td>\n",
              "      <td>5</td>\n",
              "    </tr>\n",
              "    <tr>\n",
              "      <th>11</th>\n",
              "      <td>Vx19GFjr7lSltZGOvBY6-A</td>\n",
              "      <td>0_7UeN4U_D6Iw6tHm90tXg</td>\n",
              "      <td>tOhRQqiupLyJdBJVQMGOEQ</td>\n",
              "      <td>1</td>\n",
              "      <td>2</td>\n",
              "      <td>0</td>\n",
              "      <td>Great bagel if purchased straight from the ove...</td>\n",
              "      <td>2017-05-26</td>\n",
              "      <td>4</td>\n",
              "    </tr>\n",
              "    <tr>\n",
              "      <th>13</th>\n",
              "      <td>bXJ2bQ815xuUTLgo2UXpww</td>\n",
              "      <td>YVaONBBT9lSJQwBPWCB0qQ</td>\n",
              "      <td>tOhRQqiupLyJdBJVQMGOEQ</td>\n",
              "      <td>3</td>\n",
              "      <td>2</td>\n",
              "      <td>1</td>\n",
              "      <td>Location: Let me think.... oh yes - on Fairmou...</td>\n",
              "      <td>2017-06-17</td>\n",
              "      <td>4</td>\n",
              "    </tr>\n",
              "    <tr>\n",
              "      <th>...</th>\n",
              "      <td>...</td>\n",
              "      <td>...</td>\n",
              "      <td>...</td>\n",
              "      <td>...</td>\n",
              "      <td>...</td>\n",
              "      <td>...</td>\n",
              "      <td>...</td>\n",
              "      <td>...</td>\n",
              "      <td>...</td>\n",
              "    </tr>\n",
              "    <tr>\n",
              "      <th>208157</th>\n",
              "      <td>2CI3Pt3k_n1M1EaX76SeXQ</td>\n",
              "      <td>-tLuSq-gr-GMI8gRF3PcjQ</td>\n",
              "      <td>PxurErpS9W8ektd7xJLpCw</td>\n",
              "      <td>1</td>\n",
              "      <td>0</td>\n",
              "      <td>0</td>\n",
              "      <td>This restaurant's food and decor is so unique ...</td>\n",
              "      <td>2019-01-23</td>\n",
              "      <td>5</td>\n",
              "    </tr>\n",
              "    <tr>\n",
              "      <th>208160</th>\n",
              "      <td>zQlx0T9qLBEKmsA3VglUDA</td>\n",
              "      <td>KmSzHgFbD26Bh9rcY2I_qw</td>\n",
              "      <td>pGug1ewRESW_HL_z3uFEHQ</td>\n",
              "      <td>2</td>\n",
              "      <td>0</td>\n",
              "      <td>0</td>\n",
              "      <td>We have employed the fortitled company for the...</td>\n",
              "      <td>2018-02-08</td>\n",
              "      <td>1</td>\n",
              "    </tr>\n",
              "    <tr>\n",
              "      <th>208161</th>\n",
              "      <td>CNpc_rwGhK9JlcKl7DfpBw</td>\n",
              "      <td>4_1MOsAkv3Xwwlz8N0YXdg</td>\n",
              "      <td>pGug1ewRESW_HL_z3uFEHQ</td>\n",
              "      <td>5</td>\n",
              "      <td>0</td>\n",
              "      <td>0</td>\n",
              "      <td>I've been with st-charles for 8 years. The ser...</td>\n",
              "      <td>2018-01-14</td>\n",
              "      <td>1</td>\n",
              "    </tr>\n",
              "    <tr>\n",
              "      <th>208163</th>\n",
              "      <td>HbmEOCd2Mrv4iuzyCjkhdg</td>\n",
              "      <td>iu3YFvY06HzYrpzFQdFvIA</td>\n",
              "      <td>IkGlkzMHzWfpgJZv6qmTPQ</td>\n",
              "      <td>0</td>\n",
              "      <td>0</td>\n",
              "      <td>0</td>\n",
              "      <td>Je suis une cliente habituelle. J'ai toujours ...</td>\n",
              "      <td>2017-08-19</td>\n",
              "      <td>2</td>\n",
              "    </tr>\n",
              "    <tr>\n",
              "      <th>208165</th>\n",
              "      <td>Firb5iZn0wa2qs7BBrwxIw</td>\n",
              "      <td>rLh63PoxknAV52w5IkmcQA</td>\n",
              "      <td>IkGlkzMHzWfpgJZv6qmTPQ</td>\n",
              "      <td>0</td>\n",
              "      <td>0</td>\n",
              "      <td>0</td>\n",
              "      <td>Had breakfast/brunch here this morning, the wa...</td>\n",
              "      <td>2019-05-05</td>\n",
              "      <td>3</td>\n",
              "    </tr>\n",
              "  </tbody>\n",
              "</table>\n",
              "<p>98372 rows × 9 columns</p>\n",
              "</div>"
            ],
            "text/plain": [
              "                     review_id                 user_id  ...       date  stars\n",
              "1       uZ66BJLPMx6mJAY_6bi8vQ  kNL4SpfIdMC8GywGayDEOw  ... 2016-07-14      4\n",
              "7       Sc0YoR19v2ZHqPjjReMdfQ  8VFNDokKKbpUgCrH6TF9fA  ... 2016-09-19      4\n",
              "10      uZnzhtYAXAO_4ICeWOq9_A  bemY1DWj0rOLIPUBRnfkjg  ... 2018-09-03      5\n",
              "11      Vx19GFjr7lSltZGOvBY6-A  0_7UeN4U_D6Iw6tHm90tXg  ... 2017-05-26      4\n",
              "13      bXJ2bQ815xuUTLgo2UXpww  YVaONBBT9lSJQwBPWCB0qQ  ... 2017-06-17      4\n",
              "...                        ...                     ...  ...        ...    ...\n",
              "208157  2CI3Pt3k_n1M1EaX76SeXQ  -tLuSq-gr-GMI8gRF3PcjQ  ... 2019-01-23      5\n",
              "208160  zQlx0T9qLBEKmsA3VglUDA  KmSzHgFbD26Bh9rcY2I_qw  ... 2018-02-08      1\n",
              "208161  CNpc_rwGhK9JlcKl7DfpBw  4_1MOsAkv3Xwwlz8N0YXdg  ... 2018-01-14      1\n",
              "208163  HbmEOCd2Mrv4iuzyCjkhdg  iu3YFvY06HzYrpzFQdFvIA  ... 2017-08-19      2\n",
              "208165  Firb5iZn0wa2qs7BBrwxIw  rLh63PoxknAV52w5IkmcQA  ... 2019-05-05      3\n",
              "\n",
              "[98372 rows x 9 columns]"
            ]
          },
          "metadata": {},
          "execution_count": 19
        }
      ]
    },
    {
      "cell_type": "code",
      "metadata": {
        "colab": {
          "base_uri": "https://localhost:8080/"
        },
        "id": "Yz1lX5txjbyL",
        "outputId": "7d63b374-a364-4fab-9f41-0f84f17cbfe3"
      },
      "source": [
        "temp.shape"
      ],
      "execution_count": null,
      "outputs": [
        {
          "output_type": "execute_result",
          "data": {
            "text/plain": [
              "(98372, 9)"
            ]
          },
          "metadata": {},
          "execution_count": 20
        }
      ]
    },
    {
      "cell_type": "code",
      "metadata": {
        "id": "sr4ftepzF-zq",
        "colab": {
          "base_uri": "https://localhost:8080/"
        },
        "outputId": "fe7b8f80-5f51-4779-949f-df670a8c4f22"
      },
      "source": [
        "# check the minimum and maximum dates of the resulting dataframe to confirm you've done this correctly\n",
        "# min date\n",
        "\n",
        "temp.min()\n",
        "\n"
      ],
      "execution_count": null,
      "outputs": [
        {
          "output_type": "execute_result",
          "data": {
            "text/plain": [
              "review_id                                 ---S_MXC9CMrOMHmS_RDVw\n",
              "user_id                                   --2PnhMMH7EYoY3wywOvgQ\n",
              "business_id                               -1CI4H3DLkI-NdWLbIae6g\n",
              "useful                                                         0\n",
              "funny                                                          0\n",
              "cool                                                           0\n",
              "text           !! Only great things to say about this place. ...\n",
              "date                                         2016-05-01 00:00:00\n",
              "stars                                                          1\n",
              "dtype: object"
            ]
          },
          "metadata": {},
          "execution_count": 21
        }
      ]
    },
    {
      "cell_type": "code",
      "metadata": {
        "id": "JtT_0l7h2wpU",
        "colab": {
          "base_uri": "https://localhost:8080/"
        },
        "outputId": "adf8689e-b976-4794-ccd4-2559ddbe1ac6"
      },
      "source": [
        "# max date\n",
        "temp.max()\n",
        "\n",
        "\n"
      ],
      "execution_count": null,
      "outputs": [
        {
          "output_type": "execute_result",
          "data": {
            "text/plain": [
              "review_id                                 zzzeSv0EJ20f_pDUyRCAAg\n",
              "user_id                                   zzyx5LodXOXGyh-c7ox_Mg\n",
              "business_id                               zzlZJVkEhOzR2tJOLHcF2A\n",
              "useful                                                       121\n",
              "funny                                                         71\n",
              "cool                                                         116\n",
              "text           點了first mate 拼盤，大概110加幣，吃超飽。店內人員推薦可以點captain ,...\n",
              "date                                         2019-05-31 00:00:00\n",
              "stars                                                          5\n",
              "dtype: object"
            ]
          },
          "metadata": {},
          "execution_count": 22
        }
      ]
    },
    {
      "cell_type": "code",
      "metadata": {
        "id": "o9rJC3Uuv4Hz"
      },
      "source": [
        "# save the dataset somewhere, give it a meaningful file name\n",
        "\n",
        "\n",
        "\n"
      ],
      "execution_count": null,
      "outputs": []
    },
    {
      "cell_type": "markdown",
      "metadata": {
        "id": "7hdqtvZG2WyH"
      },
      "source": [
        "# Problem 3 (3 points)\n",
        "\n",
        "**Use the dataset created in problem 2**\n",
        "\n",
        "Create a new column `ym` that represents the year and month (drops date and time from dates).\\\n",
        "*Hint use `.dt.to_period` method from [notes](https://colab.research.google.com/drive/1RKy2g2aWOitE2rCQdZli8ERKdrtqU6Cl?usp=sharing).\n",
        "\n",
        "Next, construct a line plot of the average usefulness votes (y-axis) by month between 2016/5 and 2019/5 `ym` (x-axis).\\\n",
        "*Hint - you need to do a groupby plot grouping on `ym` and compute the mean of star ratings.\n",
        "\n",
        "### Use a text cell to answer:\n",
        "1. What seasonal patterns do you see in the average helpfulness votes per review in Quebec? \n",
        "1. Come up with 2 potential explanations for the pattern(s) you've noticed."
      ]
    },
    {
      "cell_type": "markdown",
      "metadata": {
        "id": "4TSxTwNO9SLh"
      },
      "source": [
        "## Problem 3 Answer (edit this cell)\n",
        "1. (Describe the pattern)\n",
        "1. (Speculate why this pattern might exist)"
      ]
    },
    {
      "cell_type": "code",
      "metadata": {
        "id": "Eh-DajsdG7Iq"
      },
      "source": [
        "# create the plot using a groupby summary + .plot method\n",
        "# refer to notes for examples\n",
        "yelp['ym'] = yelp.date.dt.to_period('M')\n",
        "yelp['ym'] = yelp.date.dt.to_period('Y')\n"
      ],
      "execution_count": null,
      "outputs": []
    },
    {
      "cell_type": "code",
      "metadata": {
        "colab": {
          "base_uri": "https://localhost:8080/"
        },
        "id": "JzrMCIa1mukS",
        "outputId": "dab1462f-1912-4b73-97ca-07877872d222"
      },
      "source": [
        "yelp['ym']"
      ],
      "execution_count": null,
      "outputs": [
        {
          "output_type": "execute_result",
          "data": {
            "text/plain": [
              "0         2013\n",
              "1         2016\n",
              "2         2012\n",
              "3         2016\n",
              "4         2015\n",
              "          ... \n",
              "208161    2018\n",
              "208162    2019\n",
              "208163    2017\n",
              "208164    2019\n",
              "208165    2019\n",
              "Name: ym, Length: 208166, dtype: period[A-DEC]"
            ]
          },
          "metadata": {},
          "execution_count": 25
        }
      ]
    },
    {
      "cell_type": "code",
      "metadata": {
        "colab": {
          "base_uri": "https://localhost:8080/",
          "height": 296
        },
        "id": "ydnz6krFm1Re",
        "outputId": "c39a8d42-68bb-4608-d9e0-9973b290fad2"
      },
      "source": [
        "yelp.groupby('ym').mean().plot()"
      ],
      "execution_count": null,
      "outputs": [
        {
          "output_type": "execute_result",
          "data": {
            "text/plain": [
              "<matplotlib.axes._subplots.AxesSubplot at 0x7f2f624e7290>"
            ]
          },
          "metadata": {},
          "execution_count": 26
        },
        {
          "output_type": "display_data",
          "data": {
            "image/png": "[encoded data removed]",
            "text/plain": [
              "<Figure size 432x288 with 1 Axes>"
            ]
          },
          "metadata": {
            "needs_background": "light"
          }
        }
      ]
    },
    {
      "cell_type": "code",
      "metadata": {
        "id": "NFJnyNscd2y4",
        "colab": {
          "base_uri": "https://localhost:8080/"
        },
        "outputId": "8b461372-9300-4232-906d-c01feb590797"
      },
      "source": [
        "# check that you've created it correctly by finding the unique values of ym\n",
        "# select the ym column and use the .unique() method\n",
        "yelp['ym'].unique()\n",
        "\n",
        "\n"
      ],
      "execution_count": null,
      "outputs": [
        {
          "output_type": "execute_result",
          "data": {
            "text/plain": [
              "<PeriodArray>\n",
              "['2013', '2016', '2012', '2015', '2014', '2018', '2017', '2009', '2011',\n",
              " '2010', '2008', '2019', '2007']\n",
              "Length: 13, dtype: period[A-DEC]"
            ]
          },
          "metadata": {},
          "execution_count": 27
        }
      ]
    },
    {
      "cell_type": "code",
      "metadata": {
        "id": "WSuD6uNH2SM-"
      },
      "source": [
        "# create 'ym' column\n",
        "\n",
        "yelp['stars'] = yelp.stars.astype(int)\n",
        "\n"
      ],
      "execution_count": null,
      "outputs": []
    },
    {
      "cell_type": "code",
      "metadata": {
        "colab": {
          "base_uri": "https://localhost:8080/",
          "height": 296
        },
        "id": "GTVxFdnvn0GY",
        "outputId": "b0148656-343b-4b76-cf61-f1433d556cfb"
      },
      "source": [
        "yelp.groupby('ym').mean().plot()"
      ],
      "execution_count": null,
      "outputs": [
        {
          "output_type": "execute_result",
          "data": {
            "text/plain": [
              "<matplotlib.axes._subplots.AxesSubplot at 0x7f2f5d009ad0>"
            ]
          },
          "metadata": {},
          "execution_count": 45
        },
        {
          "output_type": "display_data",
          "data": {
            "image/png": "[encoded data removed]",
            "text/plain": [
              "<Figure size 432x288 with 1 Axes>"
            ]
          },
          "metadata": {
            "needs_background": "light"
          }
        }
      ]
    },
    {
      "cell_type": "markdown",
      "metadata": {
        "id": "OIrDmJDL2gfG"
      },
      "source": [
        "# Probelm 4 (4 points)\n",
        "\n",
        "Read in the Quebec **business info** dataset, be sure to use a different variable name for this dataframe.\n",
        "\n",
        "## Part A questions (2 pts)\n",
        "1. What is the observational unit of this dataset?\n",
        "1. On what variable should you merge this (right dataframe) **into** the review data (left dataframe)? \n",
        "\n",
        "**Merge business data into the dataframe from Q2.**\n",
        "\n",
        "Notice a column called \"is_open\" - if a business has shut down, this column will have a value of 0, otherwise it will have a value of 1.\n",
        "\n",
        "Construct the line plot where: \n",
        "* x-axis is `ym` \n",
        "* y-axis is average star rating \n",
        "* there are 2 lines: 1. for currently open businesses and 2. closed businesses \n",
        "    * Make sure the 2 lines appear on the same figure.\n",
        "    * You should compute avg. star rating using the `star` variable, not the `biz_star` variable.\n",
        "\n",
        "## Part B questions (2 pts)\n",
        "1. Any difference in patterns between these 2 groups of businesses?\n",
        "1. Speculate on what reason(s) might cause the observed pattern(s).\n",
        "\n"
      ]
    },
    {
      "cell_type": "markdown",
      "metadata": {
        "id": "X3OAH7PsW91-"
      },
      "source": [
        "## Problem 4 Answers (Edit this cell)\n",
        "\n",
        "### Part A\n",
        "\n",
        "1. Each row represents one **review**\n",
        "1. We should merge on **_________**\n",
        "\n",
        "### Part B\n",
        "\n",
        "1. (Describe any difference in patterns between currently open and shut down businesses)\n",
        "1. 2 possible reasons are:\n",
        "    1. (Clearly explain one hypothesized reason)\n",
        "    1. (Clearly explain a second hypothesized reason)"
      ]
    },
    {
      "cell_type": "code",
      "metadata": {
        "id": "2hfMBmjaB574",
        "colab": {
          "base_uri": "https://localhost:8080/",
          "height": 530
        },
        "outputId": "d6b6c1da-b74d-4999-99a0-165300b0a631"
      },
      "source": [
        "# read in the business info file, call the dataframe biz, e.g. biz = pd.read_csv(...)\n",
        "biz = pd.read_csv(fpath + 'quebec_biz.csv' , index_col=0)\n",
        "\n",
        "biz.head()"
      ],
      "execution_count": null,
      "outputs": [
        {
          "output_type": "execute_result",
          "data": {
            "text/html": [
              "<div>\n",
              "<style scoped>\n",
              "    .dataframe tbody tr th:only-of-type {\n",
              "        vertical-align: middle;\n",
              "    }\n",
              "\n",
              "    .dataframe tbody tr th {\n",
              "        vertical-align: top;\n",
              "    }\n",
              "\n",
              "    .dataframe thead th {\n",
              "        text-align: right;\n",
              "    }\n",
              "</style>\n",
              "<table border=\"1\" class=\"dataframe\">\n",
              "  <thead>\n",
              "    <tr style=\"text-align: right;\">\n",
              "      <th></th>\n",
              "      <th>business_id</th>\n",
              "      <th>name</th>\n",
              "      <th>address</th>\n",
              "      <th>city</th>\n",
              "      <th>state</th>\n",
              "      <th>postal_code</th>\n",
              "      <th>latitude</th>\n",
              "      <th>longitude</th>\n",
              "      <th>biz_stars</th>\n",
              "      <th>review_count</th>\n",
              "      <th>is_open</th>\n",
              "      <th>attributes</th>\n",
              "      <th>categories</th>\n",
              "      <th>hours</th>\n",
              "    </tr>\n",
              "  </thead>\n",
              "  <tbody>\n",
              "    <tr>\n",
              "      <th>2</th>\n",
              "      <td>XNoUzKckATkOD1hP6vghZg</td>\n",
              "      <td>Felinus</td>\n",
              "      <td>3554 Rue Notre-Dame O</td>\n",
              "      <td>Montreal</td>\n",
              "      <td>QC</td>\n",
              "      <td>H4C 1P4</td>\n",
              "      <td>45.479984</td>\n",
              "      <td>-73.580070</td>\n",
              "      <td>5.0</td>\n",
              "      <td>5</td>\n",
              "      <td>1</td>\n",
              "      <td>NaN</td>\n",
              "      <td>Pets, Pet Services, Pet Groomers</td>\n",
              "      <td>NaN</td>\n",
              "    </tr>\n",
              "    <tr>\n",
              "      <th>31</th>\n",
              "      <td>pcaQDBM6r0PWTXfYZK6RdA</td>\n",
              "      <td>IGA Extra</td>\n",
              "      <td>8130 Boulevard Champlain</td>\n",
              "      <td>Lasalle</td>\n",
              "      <td>QC</td>\n",
              "      <td>H8P 1B4</td>\n",
              "      <td>45.425645</td>\n",
              "      <td>-73.611934</td>\n",
              "      <td>3.0</td>\n",
              "      <td>6</td>\n",
              "      <td>1</td>\n",
              "      <td>{'BusinessParking': \"{'garage': False, 'street...</td>\n",
              "      <td>Food, Grocery</td>\n",
              "      <td>{'Monday': '8:0-22:0', 'Tuesday': '8:0-22:0', ...</td>\n",
              "    </tr>\n",
              "    <tr>\n",
              "      <th>43</th>\n",
              "      <td>LoRef3ChgZKbxUio-sHgQg</td>\n",
              "      <td>Amir</td>\n",
              "      <td>5252 Rue Jean Talon O</td>\n",
              "      <td>Montréal</td>\n",
              "      <td>QC</td>\n",
              "      <td>H4P 2A7</td>\n",
              "      <td>45.494870</td>\n",
              "      <td>-73.651904</td>\n",
              "      <td>3.0</td>\n",
              "      <td>18</td>\n",
              "      <td>1</td>\n",
              "      <td>{'RestaurantsAttire': \"u'casual'\", 'Restaurant...</td>\n",
              "      <td>Restaurants, Lebanese, Middle Eastern</td>\n",
              "      <td>NaN</td>\n",
              "    </tr>\n",
              "    <tr>\n",
              "      <th>45</th>\n",
              "      <td>_xOeoXfPUQTNlUAhXl32ug</td>\n",
              "      <td>Starbucks</td>\n",
              "      <td>150 Boulevard Crémazie E</td>\n",
              "      <td>Montréal</td>\n",
              "      <td>QC</td>\n",
              "      <td>H2P 1E2</td>\n",
              "      <td>45.542993</td>\n",
              "      <td>-73.640218</td>\n",
              "      <td>3.5</td>\n",
              "      <td>4</td>\n",
              "      <td>1</td>\n",
              "      <td>{'RestaurantsTakeOut': 'True', 'RestaurantsPri...</td>\n",
              "      <td>Coffee &amp; Tea, Food</td>\n",
              "      <td>{'Monday': '5:30-23:0', 'Tuesday': '5:30-23:0'...</td>\n",
              "    </tr>\n",
              "    <tr>\n",
              "      <th>57</th>\n",
              "      <td>3BfGGIJn8lxvu1k3ZZnL1w</td>\n",
              "      <td>Théâtre Corona</td>\n",
              "      <td>2490 Rue Notre-Dame O</td>\n",
              "      <td>Montréal</td>\n",
              "      <td>QC</td>\n",
              "      <td>H3J 1N5</td>\n",
              "      <td>45.482777</td>\n",
              "      <td>-73.575006</td>\n",
              "      <td>4.0</td>\n",
              "      <td>18</td>\n",
              "      <td>1</td>\n",
              "      <td>{'OutdoorSeating': 'False', 'RestaurantsPriceR...</td>\n",
              "      <td>Nightlife, Arts &amp; Entertainment, Performing Ar...</td>\n",
              "      <td>NaN</td>\n",
              "    </tr>\n",
              "  </tbody>\n",
              "</table>\n",
              "</div>"
            ],
            "text/plain": [
              "               business_id  ...                                              hours\n",
              "2   XNoUzKckATkOD1hP6vghZg  ...                                                NaN\n",
              "31  pcaQDBM6r0PWTXfYZK6RdA  ...  {'Monday': '8:0-22:0', 'Tuesday': '8:0-22:0', ...\n",
              "43  LoRef3ChgZKbxUio-sHgQg  ...                                                NaN\n",
              "45  _xOeoXfPUQTNlUAhXl32ug  ...  {'Monday': '5:30-23:0', 'Tuesday': '5:30-23:0'...\n",
              "57  3BfGGIJn8lxvu1k3ZZnL1w  ...                                                NaN\n",
              "\n",
              "[5 rows x 14 columns]"
            ]
          },
          "metadata": {},
          "execution_count": 32
        }
      ]
    },
    {
      "cell_type": "code",
      "metadata": {
        "colab": {
          "base_uri": "https://localhost:8080/",
          "height": 547
        },
        "id": "ApyHJxFxR3o2",
        "outputId": "c6e6bb8f-dca6-41a2-c999-10867f242df3"
      },
      "source": [
        "yelp.head()"
      ],
      "execution_count": null,
      "outputs": [
        {
          "output_type": "execute_result",
          "data": {
            "text/html": [
              "<div>\n",
              "<style scoped>\n",
              "    .dataframe tbody tr th:only-of-type {\n",
              "        vertical-align: middle;\n",
              "    }\n",
              "\n",
              "    .dataframe tbody tr th {\n",
              "        vertical-align: top;\n",
              "    }\n",
              "\n",
              "    .dataframe thead th {\n",
              "        text-align: right;\n",
              "    }\n",
              "</style>\n",
              "<table border=\"1\" class=\"dataframe\">\n",
              "  <thead>\n",
              "    <tr style=\"text-align: right;\">\n",
              "      <th></th>\n",
              "      <th>review_id</th>\n",
              "      <th>user_id</th>\n",
              "      <th>business_id</th>\n",
              "      <th>useful</th>\n",
              "      <th>funny</th>\n",
              "      <th>cool</th>\n",
              "      <th>text</th>\n",
              "      <th>date</th>\n",
              "      <th>stars</th>\n",
              "      <th>ym</th>\n",
              "    </tr>\n",
              "  </thead>\n",
              "  <tbody>\n",
              "    <tr>\n",
              "      <th>0</th>\n",
              "      <td>sybVjriZuCEH09zplkcXAw</td>\n",
              "      <td>qkJtn0Rtz_lKlTs5azBkng</td>\n",
              "      <td>tOhRQqiupLyJdBJVQMGOEQ</td>\n",
              "      <td>0</td>\n",
              "      <td>0</td>\n",
              "      <td>0</td>\n",
              "      <td>AMAZING. Simply amazing. Believe all of the hy...</td>\n",
              "      <td>2013-12-29</td>\n",
              "      <td>5</td>\n",
              "      <td>2013</td>\n",
              "    </tr>\n",
              "    <tr>\n",
              "      <th>1</th>\n",
              "      <td>uZ66BJLPMx6mJAY_6bi8vQ</td>\n",
              "      <td>kNL4SpfIdMC8GywGayDEOw</td>\n",
              "      <td>tOhRQqiupLyJdBJVQMGOEQ</td>\n",
              "      <td>0</td>\n",
              "      <td>0</td>\n",
              "      <td>0</td>\n",
              "      <td>Montreal bagels were well worth the experience...</td>\n",
              "      <td>2016-07-14</td>\n",
              "      <td>4</td>\n",
              "      <td>2016</td>\n",
              "    </tr>\n",
              "    <tr>\n",
              "      <th>2</th>\n",
              "      <td>uRPUL-YSYuaJZLQp3Z0QlA</td>\n",
              "      <td>dSeYpzf0JkCeARr_CyCh7A</td>\n",
              "      <td>tOhRQqiupLyJdBJVQMGOEQ</td>\n",
              "      <td>1</td>\n",
              "      <td>2</td>\n",
              "      <td>0</td>\n",
              "      <td>Montreal, what did you do in a previous life t...</td>\n",
              "      <td>2012-06-26</td>\n",
              "      <td>1</td>\n",
              "      <td>2012</td>\n",
              "    </tr>\n",
              "    <tr>\n",
              "      <th>3</th>\n",
              "      <td>AGxEC3EtPW1vZH3v2DnPFA</td>\n",
              "      <td>ZhK2xIa4f73JZfua7IP8vA</td>\n",
              "      <td>tOhRQqiupLyJdBJVQMGOEQ</td>\n",
              "      <td>0</td>\n",
              "      <td>0</td>\n",
              "      <td>1</td>\n",
              "      <td>St-Viateur is better, as bagels and as human b...</td>\n",
              "      <td>2016-02-24</td>\n",
              "      <td>3</td>\n",
              "      <td>2016</td>\n",
              "    </tr>\n",
              "    <tr>\n",
              "      <th>4</th>\n",
              "      <td>7rBHa16cZexmPopeVrGKBw</td>\n",
              "      <td>ClJirlfCI0W0CfpYaWdfEw</td>\n",
              "      <td>tOhRQqiupLyJdBJVQMGOEQ</td>\n",
              "      <td>0</td>\n",
              "      <td>1</td>\n",
              "      <td>1</td>\n",
              "      <td>The bagels are good but first they had me writ...</td>\n",
              "      <td>2015-05-26</td>\n",
              "      <td>2</td>\n",
              "      <td>2015</td>\n",
              "    </tr>\n",
              "  </tbody>\n",
              "</table>\n",
              "</div>"
            ],
            "text/plain": [
              "                review_id                 user_id  ... stars    ym\n",
              "0  sybVjriZuCEH09zplkcXAw  qkJtn0Rtz_lKlTs5azBkng  ...     5  2013\n",
              "1  uZ66BJLPMx6mJAY_6bi8vQ  kNL4SpfIdMC8GywGayDEOw  ...     4  2016\n",
              "2  uRPUL-YSYuaJZLQp3Z0QlA  dSeYpzf0JkCeARr_CyCh7A  ...     1  2012\n",
              "3  AGxEC3EtPW1vZH3v2DnPFA  ZhK2xIa4f73JZfua7IP8vA  ...     3  2016\n",
              "4  7rBHa16cZexmPopeVrGKBw  ClJirlfCI0W0CfpYaWdfEw  ...     2  2015\n",
              "\n",
              "[5 rows x 10 columns]"
            ]
          },
          "metadata": {},
          "execution_count": 33
        }
      ]
    },
    {
      "cell_type": "code",
      "metadata": {
        "id": "_64Zf-KitgLl",
        "colab": {
          "base_uri": "https://localhost:8080/"
        },
        "outputId": "3d285e21-dba0-4359-bf59-326b0fb86e1f"
      },
      "source": [
        "# Take a look at the first few rows to determine the observational unit\n",
        "\n",
        "temp = yelp.merge(biz, how = 'left', on = 'business_id')\n",
        "temp.shape"
      ],
      "execution_count": null,
      "outputs": [
        {
          "output_type": "execute_result",
          "data": {
            "text/plain": [
              "(208166, 23)"
            ]
          },
          "metadata": {},
          "execution_count": 36
        }
      ]
    },
    {
      "cell_type": "code",
      "metadata": {
        "colab": {
          "base_uri": "https://localhost:8080/"
        },
        "id": "Aj3MRbprTEtu",
        "outputId": "96d22f73-c154-4733-ab28-8b91f99d6547"
      },
      "source": [
        "temp = yelp.merge(biz, how = 'inner', on = 'business_id')\n",
        "temp.shape"
      ],
      "execution_count": null,
      "outputs": [
        {
          "output_type": "execute_result",
          "data": {
            "text/plain": [
              "(208166, 23)"
            ]
          },
          "metadata": {},
          "execution_count": 37
        }
      ]
    },
    {
      "cell_type": "code",
      "metadata": {
        "colab": {
          "base_uri": "https://localhost:8080/"
        },
        "id": "hJsYA-9QTJOb",
        "outputId": "208a951e-14d9-4190-8893-7565e7cc55ab"
      },
      "source": [
        "temp = yelp.merge(biz, how = 'outer', on = 'business_id')\n",
        "temp.shape"
      ],
      "execution_count": null,
      "outputs": [
        {
          "output_type": "execute_result",
          "data": {
            "text/plain": [
              "(208166, 23)"
            ]
          },
          "metadata": {},
          "execution_count": 38
        }
      ]
    },
    {
      "cell_type": "code",
      "metadata": {
        "colab": {
          "base_uri": "https://localhost:8080/"
        },
        "id": "yc3snDE4TQG5",
        "outputId": "dbbb22c6-7c88-4b05-c26e-1ef0e70d3629"
      },
      "source": [
        "temp.shape"
      ],
      "execution_count": null,
      "outputs": [
        {
          "output_type": "execute_result",
          "data": {
            "text/plain": [
              "(208166, 23)"
            ]
          },
          "metadata": {},
          "execution_count": 39
        }
      ]
    },
    {
      "cell_type": "code",
      "metadata": {
        "id": "hlLltBeJtlrH"
      },
      "source": [
        "# merge the 2 datasets\n",
        "\n",
        "\n"
      ],
      "execution_count": null,
      "outputs": []
    },
    {
      "cell_type": "code",
      "metadata": {
        "colab": {
          "base_uri": "https://localhost:8080/"
        },
        "id": "lzE-R57RTVqK",
        "outputId": "89fabe50-e57a-448e-e335-5dd90dc66f48"
      },
      "source": [
        "yelp.shape"
      ],
      "execution_count": null,
      "outputs": [
        {
          "output_type": "execute_result",
          "data": {
            "text/plain": [
              "(208166, 10)"
            ]
          },
          "metadata": {},
          "execution_count": 40
        }
      ]
    },
    {
      "cell_type": "code",
      "metadata": {
        "colab": {
          "base_uri": "https://localhost:8080/",
          "height": 547
        },
        "id": "PQN2eIiRTZpW",
        "outputId": "2d76c8f5-f31c-414f-b34f-1414c186f9a4"
      },
      "source": [
        "yelp.head()"
      ],
      "execution_count": null,
      "outputs": [
        {
          "output_type": "execute_result",
          "data": {
            "text/html": [
              "<div>\n",
              "<style scoped>\n",
              "    .dataframe tbody tr th:only-of-type {\n",
              "        vertical-align: middle;\n",
              "    }\n",
              "\n",
              "    .dataframe tbody tr th {\n",
              "        vertical-align: top;\n",
              "    }\n",
              "\n",
              "    .dataframe thead th {\n",
              "        text-align: right;\n",
              "    }\n",
              "</style>\n",
              "<table border=\"1\" class=\"dataframe\">\n",
              "  <thead>\n",
              "    <tr style=\"text-align: right;\">\n",
              "      <th></th>\n",
              "      <th>review_id</th>\n",
              "      <th>user_id</th>\n",
              "      <th>business_id</th>\n",
              "      <th>useful</th>\n",
              "      <th>funny</th>\n",
              "      <th>cool</th>\n",
              "      <th>text</th>\n",
              "      <th>date</th>\n",
              "      <th>stars</th>\n",
              "      <th>ym</th>\n",
              "    </tr>\n",
              "  </thead>\n",
              "  <tbody>\n",
              "    <tr>\n",
              "      <th>0</th>\n",
              "      <td>sybVjriZuCEH09zplkcXAw</td>\n",
              "      <td>qkJtn0Rtz_lKlTs5azBkng</td>\n",
              "      <td>tOhRQqiupLyJdBJVQMGOEQ</td>\n",
              "      <td>0</td>\n",
              "      <td>0</td>\n",
              "      <td>0</td>\n",
              "      <td>AMAZING. Simply amazing. Believe all of the hy...</td>\n",
              "      <td>2013-12-29</td>\n",
              "      <td>5</td>\n",
              "      <td>2013</td>\n",
              "    </tr>\n",
              "    <tr>\n",
              "      <th>1</th>\n",
              "      <td>uZ66BJLPMx6mJAY_6bi8vQ</td>\n",
              "      <td>kNL4SpfIdMC8GywGayDEOw</td>\n",
              "      <td>tOhRQqiupLyJdBJVQMGOEQ</td>\n",
              "      <td>0</td>\n",
              "      <td>0</td>\n",
              "      <td>0</td>\n",
              "      <td>Montreal bagels were well worth the experience...</td>\n",
              "      <td>2016-07-14</td>\n",
              "      <td>4</td>\n",
              "      <td>2016</td>\n",
              "    </tr>\n",
              "    <tr>\n",
              "      <th>2</th>\n",
              "      <td>uRPUL-YSYuaJZLQp3Z0QlA</td>\n",
              "      <td>dSeYpzf0JkCeARr_CyCh7A</td>\n",
              "      <td>tOhRQqiupLyJdBJVQMGOEQ</td>\n",
              "      <td>1</td>\n",
              "      <td>2</td>\n",
              "      <td>0</td>\n",
              "      <td>Montreal, what did you do in a previous life t...</td>\n",
              "      <td>2012-06-26</td>\n",
              "      <td>1</td>\n",
              "      <td>2012</td>\n",
              "    </tr>\n",
              "    <tr>\n",
              "      <th>3</th>\n",
              "      <td>AGxEC3EtPW1vZH3v2DnPFA</td>\n",
              "      <td>ZhK2xIa4f73JZfua7IP8vA</td>\n",
              "      <td>tOhRQqiupLyJdBJVQMGOEQ</td>\n",
              "      <td>0</td>\n",
              "      <td>0</td>\n",
              "      <td>1</td>\n",
              "      <td>St-Viateur is better, as bagels and as human b...</td>\n",
              "      <td>2016-02-24</td>\n",
              "      <td>3</td>\n",
              "      <td>2016</td>\n",
              "    </tr>\n",
              "    <tr>\n",
              "      <th>4</th>\n",
              "      <td>7rBHa16cZexmPopeVrGKBw</td>\n",
              "      <td>ClJirlfCI0W0CfpYaWdfEw</td>\n",
              "      <td>tOhRQqiupLyJdBJVQMGOEQ</td>\n",
              "      <td>0</td>\n",
              "      <td>1</td>\n",
              "      <td>1</td>\n",
              "      <td>The bagels are good but first they had me writ...</td>\n",
              "      <td>2015-05-26</td>\n",
              "      <td>2</td>\n",
              "      <td>2015</td>\n",
              "    </tr>\n",
              "  </tbody>\n",
              "</table>\n",
              "</div>"
            ],
            "text/plain": [
              "                review_id                 user_id  ... stars    ym\n",
              "0  sybVjriZuCEH09zplkcXAw  qkJtn0Rtz_lKlTs5azBkng  ...     5  2013\n",
              "1  uZ66BJLPMx6mJAY_6bi8vQ  kNL4SpfIdMC8GywGayDEOw  ...     4  2016\n",
              "2  uRPUL-YSYuaJZLQp3Z0QlA  dSeYpzf0JkCeARr_CyCh7A  ...     1  2012\n",
              "3  AGxEC3EtPW1vZH3v2DnPFA  ZhK2xIa4f73JZfua7IP8vA  ...     3  2016\n",
              "4  7rBHa16cZexmPopeVrGKBw  ClJirlfCI0W0CfpYaWdfEw  ...     2  2015\n",
              "\n",
              "[5 rows x 10 columns]"
            ]
          },
          "metadata": {},
          "execution_count": 41
        }
      ]
    },
    {
      "cell_type": "code",
      "metadata": {
        "colab": {
          "base_uri": "https://localhost:8080/",
          "height": 564
        },
        "id": "L9qJIgUZTcj2",
        "outputId": "1a8c9eaa-9869-4b38-c0ac-eb595834cd02"
      },
      "source": [
        "temp.head()"
      ],
      "execution_count": null,
      "outputs": [
        {
          "output_type": "execute_result",
          "data": {
            "text/html": [
              "<div>\n",
              "<style scoped>\n",
              "    .dataframe tbody tr th:only-of-type {\n",
              "        vertical-align: middle;\n",
              "    }\n",
              "\n",
              "    .dataframe tbody tr th {\n",
              "        vertical-align: top;\n",
              "    }\n",
              "\n",
              "    .dataframe thead th {\n",
              "        text-align: right;\n",
              "    }\n",
              "</style>\n",
              "<table border=\"1\" class=\"dataframe\">\n",
              "  <thead>\n",
              "    <tr style=\"text-align: right;\">\n",
              "      <th></th>\n",
              "      <th>review_id</th>\n",
              "      <th>user_id</th>\n",
              "      <th>business_id</th>\n",
              "      <th>useful</th>\n",
              "      <th>funny</th>\n",
              "      <th>cool</th>\n",
              "      <th>text</th>\n",
              "      <th>date</th>\n",
              "      <th>stars</th>\n",
              "      <th>ym</th>\n",
              "      <th>name</th>\n",
              "      <th>address</th>\n",
              "      <th>city</th>\n",
              "      <th>state</th>\n",
              "      <th>postal_code</th>\n",
              "      <th>latitude</th>\n",
              "      <th>longitude</th>\n",
              "      <th>biz_stars</th>\n",
              "      <th>review_count</th>\n",
              "      <th>is_open</th>\n",
              "      <th>attributes</th>\n",
              "      <th>categories</th>\n",
              "      <th>hours</th>\n",
              "    </tr>\n",
              "  </thead>\n",
              "  <tbody>\n",
              "    <tr>\n",
              "      <th>0</th>\n",
              "      <td>sybVjriZuCEH09zplkcXAw</td>\n",
              "      <td>qkJtn0Rtz_lKlTs5azBkng</td>\n",
              "      <td>tOhRQqiupLyJdBJVQMGOEQ</td>\n",
              "      <td>0</td>\n",
              "      <td>0</td>\n",
              "      <td>0</td>\n",
              "      <td>AMAZING. Simply amazing. Believe all of the hy...</td>\n",
              "      <td>2013-12-29</td>\n",
              "      <td>5</td>\n",
              "      <td>2013</td>\n",
              "      <td>Fairmount Bagel</td>\n",
              "      <td>74 Avenue Fairmount O</td>\n",
              "      <td>Montréal</td>\n",
              "      <td>QC</td>\n",
              "      <td>H2T 2M2</td>\n",
              "      <td>45.522908</td>\n",
              "      <td>-73.595277</td>\n",
              "      <td>4.0</td>\n",
              "      <td>645</td>\n",
              "      <td>1</td>\n",
              "      <td>{'BusinessParking': \"{'garage': False, 'street...</td>\n",
              "      <td>Bakeries, Food, Bagels</td>\n",
              "      <td>{'Monday': '0:0-0:0', 'Tuesday': '0:0-0:0', 'W...</td>\n",
              "    </tr>\n",
              "    <tr>\n",
              "      <th>1</th>\n",
              "      <td>uZ66BJLPMx6mJAY_6bi8vQ</td>\n",
              "      <td>kNL4SpfIdMC8GywGayDEOw</td>\n",
              "      <td>tOhRQqiupLyJdBJVQMGOEQ</td>\n",
              "      <td>0</td>\n",
              "      <td>0</td>\n",
              "      <td>0</td>\n",
              "      <td>Montreal bagels were well worth the experience...</td>\n",
              "      <td>2016-07-14</td>\n",
              "      <td>4</td>\n",
              "      <td>2016</td>\n",
              "      <td>Fairmount Bagel</td>\n",
              "      <td>74 Avenue Fairmount O</td>\n",
              "      <td>Montréal</td>\n",
              "      <td>QC</td>\n",
              "      <td>H2T 2M2</td>\n",
              "      <td>45.522908</td>\n",
              "      <td>-73.595277</td>\n",
              "      <td>4.0</td>\n",
              "      <td>645</td>\n",
              "      <td>1</td>\n",
              "      <td>{'BusinessParking': \"{'garage': False, 'street...</td>\n",
              "      <td>Bakeries, Food, Bagels</td>\n",
              "      <td>{'Monday': '0:0-0:0', 'Tuesday': '0:0-0:0', 'W...</td>\n",
              "    </tr>\n",
              "    <tr>\n",
              "      <th>2</th>\n",
              "      <td>uRPUL-YSYuaJZLQp3Z0QlA</td>\n",
              "      <td>dSeYpzf0JkCeARr_CyCh7A</td>\n",
              "      <td>tOhRQqiupLyJdBJVQMGOEQ</td>\n",
              "      <td>1</td>\n",
              "      <td>2</td>\n",
              "      <td>0</td>\n",
              "      <td>Montreal, what did you do in a previous life t...</td>\n",
              "      <td>2012-06-26</td>\n",
              "      <td>1</td>\n",
              "      <td>2012</td>\n",
              "      <td>Fairmount Bagel</td>\n",
              "      <td>74 Avenue Fairmount O</td>\n",
              "      <td>Montréal</td>\n",
              "      <td>QC</td>\n",
              "      <td>H2T 2M2</td>\n",
              "      <td>45.522908</td>\n",
              "      <td>-73.595277</td>\n",
              "      <td>4.0</td>\n",
              "      <td>645</td>\n",
              "      <td>1</td>\n",
              "      <td>{'BusinessParking': \"{'garage': False, 'street...</td>\n",
              "      <td>Bakeries, Food, Bagels</td>\n",
              "      <td>{'Monday': '0:0-0:0', 'Tuesday': '0:0-0:0', 'W...</td>\n",
              "    </tr>\n",
              "    <tr>\n",
              "      <th>3</th>\n",
              "      <td>AGxEC3EtPW1vZH3v2DnPFA</td>\n",
              "      <td>ZhK2xIa4f73JZfua7IP8vA</td>\n",
              "      <td>tOhRQqiupLyJdBJVQMGOEQ</td>\n",
              "      <td>0</td>\n",
              "      <td>0</td>\n",
              "      <td>1</td>\n",
              "      <td>St-Viateur is better, as bagels and as human b...</td>\n",
              "      <td>2016-02-24</td>\n",
              "      <td>3</td>\n",
              "      <td>2016</td>\n",
              "      <td>Fairmount Bagel</td>\n",
              "      <td>74 Avenue Fairmount O</td>\n",
              "      <td>Montréal</td>\n",
              "      <td>QC</td>\n",
              "      <td>H2T 2M2</td>\n",
              "      <td>45.522908</td>\n",
              "      <td>-73.595277</td>\n",
              "      <td>4.0</td>\n",
              "      <td>645</td>\n",
              "      <td>1</td>\n",
              "      <td>{'BusinessParking': \"{'garage': False, 'street...</td>\n",
              "      <td>Bakeries, Food, Bagels</td>\n",
              "      <td>{'Monday': '0:0-0:0', 'Tuesday': '0:0-0:0', 'W...</td>\n",
              "    </tr>\n",
              "    <tr>\n",
              "      <th>4</th>\n",
              "      <td>7rBHa16cZexmPopeVrGKBw</td>\n",
              "      <td>ClJirlfCI0W0CfpYaWdfEw</td>\n",
              "      <td>tOhRQqiupLyJdBJVQMGOEQ</td>\n",
              "      <td>0</td>\n",
              "      <td>1</td>\n",
              "      <td>1</td>\n",
              "      <td>The bagels are good but first they had me writ...</td>\n",
              "      <td>2015-05-26</td>\n",
              "      <td>2</td>\n",
              "      <td>2015</td>\n",
              "      <td>Fairmount Bagel</td>\n",
              "      <td>74 Avenue Fairmount O</td>\n",
              "      <td>Montréal</td>\n",
              "      <td>QC</td>\n",
              "      <td>H2T 2M2</td>\n",
              "      <td>45.522908</td>\n",
              "      <td>-73.595277</td>\n",
              "      <td>4.0</td>\n",
              "      <td>645</td>\n",
              "      <td>1</td>\n",
              "      <td>{'BusinessParking': \"{'garage': False, 'street...</td>\n",
              "      <td>Bakeries, Food, Bagels</td>\n",
              "      <td>{'Monday': '0:0-0:0', 'Tuesday': '0:0-0:0', 'W...</td>\n",
              "    </tr>\n",
              "  </tbody>\n",
              "</table>\n",
              "</div>"
            ],
            "text/plain": [
              "                review_id  ...                                              hours\n",
              "0  sybVjriZuCEH09zplkcXAw  ...  {'Monday': '0:0-0:0', 'Tuesday': '0:0-0:0', 'W...\n",
              "1  uZ66BJLPMx6mJAY_6bi8vQ  ...  {'Monday': '0:0-0:0', 'Tuesday': '0:0-0:0', 'W...\n",
              "2  uRPUL-YSYuaJZLQp3Z0QlA  ...  {'Monday': '0:0-0:0', 'Tuesday': '0:0-0:0', 'W...\n",
              "3  AGxEC3EtPW1vZH3v2DnPFA  ...  {'Monday': '0:0-0:0', 'Tuesday': '0:0-0:0', 'W...\n",
              "4  7rBHa16cZexmPopeVrGKBw  ...  {'Monday': '0:0-0:0', 'Tuesday': '0:0-0:0', 'W...\n",
              "\n",
              "[5 rows x 23 columns]"
            ]
          },
          "metadata": {},
          "execution_count": 42
        }
      ]
    },
    {
      "cell_type": "code",
      "metadata": {
        "colab": {
          "base_uri": "https://localhost:8080/"
        },
        "id": "JrF0j0AgTgOO",
        "outputId": "b6f4846a-5e4e-44b3-9644-3f885e5f04a5"
      },
      "source": [
        "temp.columns.values"
      ],
      "execution_count": null,
      "outputs": [
        {
          "output_type": "execute_result",
          "data": {
            "text/plain": [
              "array(['review_id', 'user_id', 'business_id', 'useful', 'funny', 'cool',\n",
              "       'text', 'date', 'stars', 'ym', 'name', 'address', 'city', 'state',\n",
              "       'postal_code', 'latitude', 'longitude', 'biz_stars',\n",
              "       'review_count', 'is_open', 'attributes', 'categories', 'hours'],\n",
              "      dtype=object)"
            ]
          },
          "metadata": {},
          "execution_count": 44
        }
      ]
    },
    {
      "cell_type": "code",
      "metadata": {
        "id": "inLgrx3ztxEJ"
      },
      "source": [
        "# take a look at the columns of the resulting dataframe\n",
        "# make sure it has all the columns from both the review and business datasets\n",
        "\n",
        "\n"
      ],
      "execution_count": null,
      "outputs": []
    },
    {
      "cell_type": "code",
      "metadata": {
        "id": "VTYtASMiuO1Q"
      },
      "source": [
        "# make your plot, use groupby summary and unstack syntax \n",
        "# to construct plot, see examples from notes\n",
        "\n",
        "\n",
        "\n"
      ],
      "execution_count": null,
      "outputs": []
    },
    {
      "cell_type": "code",
      "metadata": {
        "colab": {
          "base_uri": "https://localhost:8080/",
          "height": 297
        },
        "id": "37c1q_4CT8YF",
        "outputId": "226fab9a-64cb-47de-af97-1e7a3105236f"
      },
      "source": [
        "temp.groupby('ym').mean().unstack().plot()"
      ],
      "execution_count": null,
      "outputs": [
        {
          "output_type": "execute_result",
          "data": {
            "text/plain": [
              "<matplotlib.axes._subplots.AxesSubplot at 0x7f2f5cfa7b50>"
            ]
          },
          "metadata": {},
          "execution_count": 49
        },
        {
          "output_type": "display_data",
          "data": {
            "image/png": "[encoded data removed]",
            "text/plain": [
              "<Figure size 432x288 with 1 Axes>"
            ]
          },
          "metadata": {
            "needs_background": "light"
          }
        }
      ]
    },
    {
      "cell_type": "code",
      "metadata": {
        "id": "Ybj5SGbFUHFr"
      },
      "source": [
        ""
      ],
      "execution_count": null,
      "outputs": []
    }
  ]
}