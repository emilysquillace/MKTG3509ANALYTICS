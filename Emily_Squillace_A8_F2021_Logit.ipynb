{
  "nbformat": 4,
  "nbformat_minor": 0,
  "metadata": {
    "colab": {
      "name": "Emily Squillace A8  F2021 - Logit.ipynb",
      "provenance": [],
      "collapsed_sections": []
    },
    "kernelspec": {
      "name": "python3",
      "display_name": "Python 3"
    }
  },
  "cells": [
    {
      "cell_type": "markdown",
      "metadata": {
        "id": "v1sXHLLoB410"
      },
      "source": [
        "**Rationale** In this assignment, you will practice using logit models to analyze data with binary discrete outcomes.\n",
        "\n",
        "You will be using the following [datasets](https://drive.google.com/drive/folders/1-oR65kkGk7TIzBtRGXVWhkeU1q7yIc-x?usp=sharing). These are the same datasets from Assignment 4.\n",
        "\n",
        "1. Orange telecom churn\n",
        "1. Rent the runway"
      ]
    },
    {
      "cell_type": "code",
      "metadata": {
        "colab": {
          "base_uri": "https://localhost:8080/"
        },
        "id": "47x6aoYyAYRi",
        "outputId": "ae6e9092-4129-443f-cdc7-d392597fd85b"
      },
      "source": [
        "import os, numpy as np, pandas as pd, matplotlib.pyplot as plt\n",
        "from statsmodels.formula import api as smf\n",
        "from google.colab import drive\n",
        "drive.mount('drive')"
      ],
      "execution_count": null,
      "outputs": [
        {
          "output_type": "stream",
          "name": "stderr",
          "text": [
            "/usr/local/lib/python3.7/dist-packages/statsmodels/tools/_testing.py:19: FutureWarning: pandas.util.testing is deprecated. Use the functions in the public API at pandas.testing instead.\n",
            "  import pandas.util.testing as tm\n"
          ]
        },
        {
          "output_type": "stream",
          "name": "stdout",
          "text": [
            "Mounted at drive\n"
          ]
        }
      ]
    },
    {
      "cell_type": "code",
      "metadata": {
        "colab": {
          "base_uri": "https://localhost:8080/"
        },
        "id": "zIN5uG1AAn3T",
        "outputId": "5ef2dd87-6567-4135-9ff5-2e576f0fccb0"
      },
      "source": [
        "fpath = 'drive/MyDrive/marketing3509/' # change this to your data folder\n",
        "os.listdir(fpath)"
      ],
      "execution_count": null,
      "outputs": [
        {
          "output_type": "execute_result",
          "data": {
            "text/plain": [
              "['A1 Emily Squillace',\n",
              " 'A2 Emily Squillace',\n",
              " 'Notes 9 9.ipynb',\n",
              " 'Features data set.csv',\n",
              " 'merged_sales.csv',\n",
              " 'sales data-set.csv',\n",
              " 'stores A data-set.csv',\n",
              " 'stores B data-set.csv',\n",
              " 'stores C data-set.csv',\n",
              " 'stores data-set.csv',\n",
              " 'avocado (2).csv',\n",
              " 'avocado.json',\n",
              " 'avocado (1).xlsx',\n",
              " 'avocado.xlsx',\n",
              " 'movies.csv',\n",
              " 'ratings_time.csv',\n",
              " 'quebec_biz (1).csv',\n",
              " 'quebec_yelp_reviews (1).csv',\n",
              " 'quebec_biz.csv',\n",
              " 'quebec_yelp_reviews.csv',\n",
              " 'caliprices.png',\n",
              " 'avocado_prices',\n",
              " 'telecom_churn (2).csv',\n",
              " 'renttherunway_final_data (2).json',\n",
              " 'renttherunway_final_data (1).json',\n",
              " 'telecom_churn (1).csv',\n",
              " 'A3 Emily Squillace.ipynb',\n",
              " 'facebook_ads.csv',\n",
              " 'starbucks_promos (1).csv',\n",
              " 'avocado (1).csv',\n",
              " 'temple_traffic.csv',\n",
              " 'In Class 10 5 - Module 6.ipynb',\n",
              " 'Practice 8 31.ipynb',\n",
              " 'In Class Module 9 14.ipynb',\n",
              " 'Untitled0.ipynb',\n",
              " 'avocado.csv',\n",
              " 'starbucks_promos.csv',\n",
              " 'renttherunway_final_data.json',\n",
              " 'telecom_churn.csv']"
            ]
          },
          "metadata": {},
          "execution_count": 2
        }
      ]
    },
    {
      "cell_type": "markdown",
      "metadata": {
        "id": "iWU03t1YseZY"
      },
      "source": [
        "# Problem 1 (5 Points)\n",
        "\n",
        "Use the rent the runway dataset.\n",
        "\n",
        "Preprocessing:\n",
        "\n",
        "1. Replace missing values for \"rented_for\" column with \"unspecified\".\n",
        "1. Replace missing values for \"body_type\" column with \"unspecified\".\n",
        "1. Create a column \"fit1\" which is 0 everywhere except 1's where the value in the \"fit\" column == \"fit\", i.e. tranform the fit column to 0's and 1's, 0 where an item didn't fit and 1's where it did.\n",
        "\n",
        "Run the following regression specified in the problem below."
      ]
    },
    {
      "cell_type": "code",
      "metadata": {
        "id": "1K9o1WZNJ67r"
      },
      "source": [
        "# read in the dataset, call it rent\n",
        "# take a look at A4 for how to read in the json file\n",
        "rent = pd.read_json(fpath + 'renttherunway_final_data.json', lines = True)"
      ],
      "execution_count": null,
      "outputs": []
    },
    {
      "cell_type": "code",
      "metadata": {
        "id": "Kwh8m8HtFZPf"
      },
      "source": [
        "# replace spaces in column names with underscores\n",
        "# see last 2 assignments if you don't know how to do this\n",
        "rent.columns = [c.replace(' ', '_') for c in rent.columns]"
      ],
      "execution_count": null,
      "outputs": []
    },
    {
      "cell_type": "code",
      "metadata": {
        "id": "lg7RYg-hDbx3",
        "colab": {
          "base_uri": "https://localhost:8080/",
          "height": 932
        },
        "outputId": "8c9e8467-715b-487e-b35a-44c327836069"
      },
      "source": [
        "# take a preview of the rent dataframe, refresh yourself of what's contained in the data\n",
        "rent"
      ],
      "execution_count": null,
      "outputs": [
        {
          "output_type": "execute_result",
          "data": {
            "text/html": [
              "<div>\n",
              "<style scoped>\n",
              "    .dataframe tbody tr th:only-of-type {\n",
              "        vertical-align: middle;\n",
              "    }\n",
              "\n",
              "    .dataframe tbody tr th {\n",
              "        vertical-align: top;\n",
              "    }\n",
              "\n",
              "    .dataframe thead th {\n",
              "        text-align: right;\n",
              "    }\n",
              "</style>\n",
              "<table border=\"1\" class=\"dataframe\">\n",
              "  <thead>\n",
              "    <tr style=\"text-align: right;\">\n",
              "      <th></th>\n",
              "      <th>fit</th>\n",
              "      <th>user_id</th>\n",
              "      <th>bust_size</th>\n",
              "      <th>item_id</th>\n",
              "      <th>weight</th>\n",
              "      <th>rating</th>\n",
              "      <th>rented_for</th>\n",
              "      <th>review_text</th>\n",
              "      <th>body_type</th>\n",
              "      <th>review_summary</th>\n",
              "      <th>category</th>\n",
              "      <th>height</th>\n",
              "      <th>size</th>\n",
              "      <th>age</th>\n",
              "      <th>review_date</th>\n",
              "    </tr>\n",
              "  </thead>\n",
              "  <tbody>\n",
              "    <tr>\n",
              "      <th>0</th>\n",
              "      <td>fit</td>\n",
              "      <td>420272</td>\n",
              "      <td>34d</td>\n",
              "      <td>2260466</td>\n",
              "      <td>137lbs</td>\n",
              "      <td>10.0</td>\n",
              "      <td>vacation</td>\n",
              "      <td>An adorable romper! Belt and zipper were a lit...</td>\n",
              "      <td>hourglass</td>\n",
              "      <td>So many compliments!</td>\n",
              "      <td>romper</td>\n",
              "      <td>5' 8\"</td>\n",
              "      <td>14</td>\n",
              "      <td>28.0</td>\n",
              "      <td>April 20, 2016</td>\n",
              "    </tr>\n",
              "    <tr>\n",
              "      <th>1</th>\n",
              "      <td>fit</td>\n",
              "      <td>273551</td>\n",
              "      <td>34b</td>\n",
              "      <td>153475</td>\n",
              "      <td>132lbs</td>\n",
              "      <td>10.0</td>\n",
              "      <td>other</td>\n",
              "      <td>I rented this dress for a photo shoot. The the...</td>\n",
              "      <td>straight &amp; narrow</td>\n",
              "      <td>I felt so glamourous!!!</td>\n",
              "      <td>gown</td>\n",
              "      <td>5' 6\"</td>\n",
              "      <td>12</td>\n",
              "      <td>36.0</td>\n",
              "      <td>June 18, 2013</td>\n",
              "    </tr>\n",
              "    <tr>\n",
              "      <th>2</th>\n",
              "      <td>fit</td>\n",
              "      <td>360448</td>\n",
              "      <td>NaN</td>\n",
              "      <td>1063761</td>\n",
              "      <td>NaN</td>\n",
              "      <td>10.0</td>\n",
              "      <td>party</td>\n",
              "      <td>This hugged in all the right places! It was a ...</td>\n",
              "      <td>NaN</td>\n",
              "      <td>It was a great time to celebrate the (almost) ...</td>\n",
              "      <td>sheath</td>\n",
              "      <td>5' 4\"</td>\n",
              "      <td>4</td>\n",
              "      <td>116.0</td>\n",
              "      <td>December 14, 2015</td>\n",
              "    </tr>\n",
              "    <tr>\n",
              "      <th>3</th>\n",
              "      <td>fit</td>\n",
              "      <td>909926</td>\n",
              "      <td>34c</td>\n",
              "      <td>126335</td>\n",
              "      <td>135lbs</td>\n",
              "      <td>8.0</td>\n",
              "      <td>formal affair</td>\n",
              "      <td>I rented this for my company's black tie award...</td>\n",
              "      <td>pear</td>\n",
              "      <td>Dress arrived on time and in perfect condition.</td>\n",
              "      <td>dress</td>\n",
              "      <td>5' 5\"</td>\n",
              "      <td>8</td>\n",
              "      <td>34.0</td>\n",
              "      <td>February 12, 2014</td>\n",
              "    </tr>\n",
              "    <tr>\n",
              "      <th>4</th>\n",
              "      <td>fit</td>\n",
              "      <td>151944</td>\n",
              "      <td>34b</td>\n",
              "      <td>616682</td>\n",
              "      <td>145lbs</td>\n",
              "      <td>10.0</td>\n",
              "      <td>wedding</td>\n",
              "      <td>I have always been petite in my upper body and...</td>\n",
              "      <td>athletic</td>\n",
              "      <td>Was in love with this dress !!!</td>\n",
              "      <td>gown</td>\n",
              "      <td>5' 9\"</td>\n",
              "      <td>12</td>\n",
              "      <td>27.0</td>\n",
              "      <td>September 26, 2016</td>\n",
              "    </tr>\n",
              "    <tr>\n",
              "      <th>...</th>\n",
              "      <td>...</td>\n",
              "      <td>...</td>\n",
              "      <td>...</td>\n",
              "      <td>...</td>\n",
              "      <td>...</td>\n",
              "      <td>...</td>\n",
              "      <td>...</td>\n",
              "      <td>...</td>\n",
              "      <td>...</td>\n",
              "      <td>...</td>\n",
              "      <td>...</td>\n",
              "      <td>...</td>\n",
              "      <td>...</td>\n",
              "      <td>...</td>\n",
              "      <td>...</td>\n",
              "    </tr>\n",
              "    <tr>\n",
              "      <th>192539</th>\n",
              "      <td>fit</td>\n",
              "      <td>66386</td>\n",
              "      <td>34dd</td>\n",
              "      <td>2252812</td>\n",
              "      <td>140lbs</td>\n",
              "      <td>10.0</td>\n",
              "      <td>work</td>\n",
              "      <td>Fit like a glove!</td>\n",
              "      <td>hourglass</td>\n",
              "      <td>LOVE IT!!! First Item Im thinking of buying!</td>\n",
              "      <td>jumpsuit</td>\n",
              "      <td>5' 9\"</td>\n",
              "      <td>8</td>\n",
              "      <td>42.0</td>\n",
              "      <td>May 18, 2016</td>\n",
              "    </tr>\n",
              "    <tr>\n",
              "      <th>192540</th>\n",
              "      <td>fit</td>\n",
              "      <td>118398</td>\n",
              "      <td>32c</td>\n",
              "      <td>682043</td>\n",
              "      <td>100lbs</td>\n",
              "      <td>10.0</td>\n",
              "      <td>work</td>\n",
              "      <td>The pattern contrast on this dress is really s...</td>\n",
              "      <td>petite</td>\n",
              "      <td>LOVE it!</td>\n",
              "      <td>dress</td>\n",
              "      <td>5' 1\"</td>\n",
              "      <td>4</td>\n",
              "      <td>29.0</td>\n",
              "      <td>September 30, 2016</td>\n",
              "    </tr>\n",
              "    <tr>\n",
              "      <th>192541</th>\n",
              "      <td>fit</td>\n",
              "      <td>47002</td>\n",
              "      <td>36a</td>\n",
              "      <td>683251</td>\n",
              "      <td>135lbs</td>\n",
              "      <td>6.0</td>\n",
              "      <td>everyday</td>\n",
              "      <td>Like the other DVF wraps, the fit on this is f...</td>\n",
              "      <td>straight &amp; narrow</td>\n",
              "      <td>Loud patterning, flattering fit</td>\n",
              "      <td>dress</td>\n",
              "      <td>5' 8\"</td>\n",
              "      <td>8</td>\n",
              "      <td>31.0</td>\n",
              "      <td>March 4, 2016</td>\n",
              "    </tr>\n",
              "    <tr>\n",
              "      <th>192542</th>\n",
              "      <td>fit</td>\n",
              "      <td>961120</td>\n",
              "      <td>36c</td>\n",
              "      <td>126335</td>\n",
              "      <td>165lbs</td>\n",
              "      <td>10.0</td>\n",
              "      <td>wedding</td>\n",
              "      <td>This dress was PERFECTION.  it looked incredib...</td>\n",
              "      <td>pear</td>\n",
              "      <td>loved this dress it was comfortable and photog...</td>\n",
              "      <td>dress</td>\n",
              "      <td>5' 6\"</td>\n",
              "      <td>16</td>\n",
              "      <td>31.0</td>\n",
              "      <td>November 25, 2015</td>\n",
              "    </tr>\n",
              "    <tr>\n",
              "      <th>192543</th>\n",
              "      <td>fit</td>\n",
              "      <td>123612</td>\n",
              "      <td>36b</td>\n",
              "      <td>127865</td>\n",
              "      <td>155lbs</td>\n",
              "      <td>10.0</td>\n",
              "      <td>wedding</td>\n",
              "      <td>This dress was wonderful! I had originally pla...</td>\n",
              "      <td>athletic</td>\n",
              "      <td>I wore this to a beautiful black tie optional ...</td>\n",
              "      <td>gown</td>\n",
              "      <td>5' 6\"</td>\n",
              "      <td>16</td>\n",
              "      <td>30.0</td>\n",
              "      <td>August 29, 2017</td>\n",
              "    </tr>\n",
              "  </tbody>\n",
              "</table>\n",
              "<p>192544 rows × 15 columns</p>\n",
              "</div>"
            ],
            "text/plain": [
              "        fit  user_id bust_size  item_id  ... height  size    age         review_date\n",
              "0       fit   420272       34d  2260466  ...  5' 8\"    14   28.0      April 20, 2016\n",
              "1       fit   273551       34b   153475  ...  5' 6\"    12   36.0       June 18, 2013\n",
              "2       fit   360448       NaN  1063761  ...  5' 4\"     4  116.0   December 14, 2015\n",
              "3       fit   909926       34c   126335  ...  5' 5\"     8   34.0   February 12, 2014\n",
              "4       fit   151944       34b   616682  ...  5' 9\"    12   27.0  September 26, 2016\n",
              "...     ...      ...       ...      ...  ...    ...   ...    ...                 ...\n",
              "192539  fit    66386      34dd  2252812  ...  5' 9\"     8   42.0        May 18, 2016\n",
              "192540  fit   118398       32c   682043  ...  5' 1\"     4   29.0  September 30, 2016\n",
              "192541  fit    47002       36a   683251  ...  5' 8\"     8   31.0       March 4, 2016\n",
              "192542  fit   961120       36c   126335  ...  5' 6\"    16   31.0   November 25, 2015\n",
              "192543  fit   123612       36b   127865  ...  5' 6\"    16   30.0     August 29, 2017\n",
              "\n",
              "[192544 rows x 15 columns]"
            ]
          },
          "metadata": {},
          "execution_count": 5
        }
      ]
    },
    {
      "cell_type": "code",
      "metadata": {
        "id": "2hbxg85UDqBn"
      },
      "source": [
        "# create the 'fit1' column: 0's where item fits, 1 where it didn't\n",
        "# if you forgot, go back to A4 to refresh your memory of how to do this\n"
      ],
      "execution_count": null,
      "outputs": []
    },
    {
      "cell_type": "code",
      "metadata": {
        "id": "QmrZxG3pDqEY"
      },
      "source": [
        "# create a histogram for the fit1 column\n",
        "# get a sense of the proportion of items that fit\n",
        "\n"
      ],
      "execution_count": null,
      "outputs": []
    },
    {
      "cell_type": "code",
      "metadata": {
        "id": "vx9lR5NSFK_9"
      },
      "source": [
        "# Replace missing values of column rented for with \"unspecified\" using \n",
        "# rent.rented_for.fillna('unspecified', inplace = True)\n",
        "\n",
        "rent.rented_for.fillna('unspecified', inplace = True)\n"
      ],
      "execution_count": null,
      "outputs": []
    },
    {
      "cell_type": "code",
      "metadata": {
        "id": "AmexFmwcF3WS",
        "colab": {
          "base_uri": "https://localhost:8080/"
        },
        "outputId": "d382cd56-7fe3-4cda-a41e-0918ac018401"
      },
      "source": [
        "# check the unique values in rented_for, \n",
        "# make sure there are no missing values NaN (i.e. you did the fillna step correctly)\n",
        "\n",
        "rent.rented_for.unique()"
      ],
      "execution_count": null,
      "outputs": [
        {
          "output_type": "execute_result",
          "data": {
            "text/plain": [
              "array(['vacation', 'other', 'party', 'formal affair', 'wedding', 'date',\n",
              "       'everyday', 'work', 'unspecified', 'party: cocktail'], dtype=object)"
            ]
          },
          "metadata": {},
          "execution_count": 9
        }
      ]
    },
    {
      "cell_type": "code",
      "metadata": {
        "id": "uz09m9-DDqHF"
      },
      "source": [
        "# replace missing values in body type column with \"unspecified\"\n",
        "\n"
      ],
      "execution_count": null,
      "outputs": []
    },
    {
      "cell_type": "code",
      "metadata": {
        "id": "jI-VL9ZcF-ar"
      },
      "source": [
        "# check the unique values in body_type, \n",
        "# make sure there are no missing values NaN (i.e. you did the fillna step correctly)\n",
        "\n"
      ],
      "execution_count": null,
      "outputs": []
    },
    {
      "cell_type": "markdown",
      "metadata": {
        "id": "v9gCi4xdGH0I"
      },
      "source": [
        "\n",
        "Run the following regression\n",
        "\n",
        "$$\n",
        "Logit(fit1) = \\beta_0 + \\sum_{Occassion\\ne everyday}\\beta_{Occassion}+ \\sum_{BodyType\\ne petite}\\beta_{BodyType} + e\n",
        "$$\n",
        "\n",
        "e.g. use occassion (rented_for) and body type as explanatory variables, but explciitly use the 'everyday' category as the reference group for occassion and the 'petite' category as the reference group for body type. If you don't know what this means, review the Module 6 notes on categorical variables and dummy coding."
      ]
    },
    {
      "cell_type": "code",
      "metadata": {
        "id": "Cp_VpAfVGLjU"
      },
      "source": [
        "# estimate the logit model\n",
        "# Recall from Module 6 notes, you can specify a reference group using C(varname, Treatment(reference = \"reference group\")),\n",
        "# where \"reference group\" here would be \"everyday\" if the varname is rented_for\n",
        "\n"
      ],
      "execution_count": null,
      "outputs": []
    },
    {
      "cell_type": "code",
      "metadata": {
        "id": "6QI8lAe8GLmb"
      },
      "source": [
        "# print the summary stats table for the logit model\n",
        "\n"
      ],
      "execution_count": null,
      "outputs": []
    },
    {
      "cell_type": "markdown",
      "metadata": {
        "id": "8YS3svQoH8Wr"
      },
      "source": [
        "**Answer these questions**\n",
        "\n",
        "Based on the logit results table above, answer the following:\n",
        "\n",
        "1. Which *body types*, if any, have statistically *better* likelihood of fitting compared to those with \"petite\" body types? List them below.\n",
        "    * \n",
        "\n",
        "1. Which *body types*, if any, have statistically *worse* likelihood of fitting compared to those with \"petite\" body types? List them below.\n",
        "    * \n",
        "\n",
        "1. Which *occassions*, if any, have statistically *better* likelihood of fitting compared to \"everyday\" occassion? List them below.\n",
        "    * \n",
        "\n",
        "1. Which *occassions*, if any, have statistically *worse* likelihood of fitting compared to \"everyday\" occassion? List them below.\n",
        "    * \n",
        "\n",
        "1. Why can't you directly interpret the quantity of these coefficients in an intuitive manner (can only interpret their signs)? What do you need to do to interpret the independent variables' impact on the *probability* of fit?\n",
        "    * \n",
        "\n",
        "\n",
        "*Note that statistically better/worse requires you to interpret the p-values for statistical significance, i.e. check where there is enough evidence to reject the null that there is no difference (coefficient = 0), in addition to the sign of the coefficient."
      ]
    },
    {
      "cell_type": "code",
      "metadata": {
        "id": "35J6it08HssK"
      },
      "source": [
        "# calculate the marginal effects table for the logit model\n",
        "\n",
        "\n",
        "\n",
        "# print the marginal effects summary table below\n",
        "\n"
      ],
      "execution_count": null,
      "outputs": []
    },
    {
      "cell_type": "markdown",
      "metadata": {
        "id": "DtdIEJfwJZp2"
      },
      "source": [
        "**Answer these questions**\n",
        "\n",
        "1. Which occassion has the highest, statistically significant, average marginal effect on fit? Interpret the marginal effect.\n",
        "    \n",
        "    * \n",
        "\n",
        "1. Which body type has the lowest, statistically signifiant, average marginal effect on fit? Interpret the marginal effect.\n",
        "    \n",
        "    *  \n"
      ]
    },
    {
      "cell_type": "markdown",
      "metadata": {
        "id": "dsgSZp1WtWs2"
      },
      "source": [
        "# Problem 2 (5+1 points)\n",
        "\n",
        "Use the orange telecom churn data to estimate a logit model of customer churn. Recall here that Churn means that the customer left their contract for the cell phone plan. These plans are from the 2010's when phone plans had potentially different rates for days and nights.\n",
        "\n",
        "1. Convert the \"Churn\" variable to integer type, e.g. `df.Churn = df.Churn.astype(int)`\n",
        "1. List at least 3 variables that you think might be predictive of churn. Give a brief explanation for each variable's relationship with potential churn. You may want to avoid using categorical variables with **too many** unique values, such as area code, as it makes the model difficult to interpret and may take too long to estimate / may not run. You may also want to create composite variables, a variable derived from other variables in the dataframe, such as average rate paid (charge/ minutes). You may also want to include log transformations or quadratic components if you believe there may be nonlinearities such as diminishing returns, for example. (up to 1 bonus point for creativity here)\n",
        "1. Specify and estimate a model of churn.\n",
        "1. Obtain the marginal effects for the model you've estimated. Interpret these results.\n",
        "1. Given your model results, what is a suggestion to management about potential interventions to deter churn?"
      ]
    },
    {
      "cell_type": "code",
      "metadata": {
        "id": "zl7jhI9rCFW4"
      },
      "source": [
        "# read in the dataset\n",
        "orange = pd.read_csv(fpath + 'telecom_churn.csv')"
      ],
      "execution_count": null,
      "outputs": []
    },
    {
      "cell_type": "code",
      "metadata": {
        "id": "FKrvbiIOEp4_"
      },
      "source": [
        "# replace column name spaces with underscores\n",
        "orange.columns = [c.replace(' ', '_') for c in orange.columns]"
      ],
      "execution_count": null,
      "outputs": []
    },
    {
      "cell_type": "code",
      "metadata": {
        "id": "xnkV8uccEmsR",
        "colab": {
          "base_uri": "https://localhost:8080/",
          "height": 439
        },
        "outputId": "09a28beb-6902-40fc-813e-5c3bb9c7695a"
      },
      "source": [
        "# preview the dataset to get a sense of its contents\n",
        "orange"
      ],
      "execution_count": null,
      "outputs": [
        {
          "output_type": "execute_result",
          "data": {
            "text/html": [
              "<div>\n",
              "<style scoped>\n",
              "    .dataframe tbody tr th:only-of-type {\n",
              "        vertical-align: middle;\n",
              "    }\n",
              "\n",
              "    .dataframe tbody tr th {\n",
              "        vertical-align: top;\n",
              "    }\n",
              "\n",
              "    .dataframe thead th {\n",
              "        text-align: right;\n",
              "    }\n",
              "</style>\n",
              "<table border=\"1\" class=\"dataframe\">\n",
              "  <thead>\n",
              "    <tr style=\"text-align: right;\">\n",
              "      <th></th>\n",
              "      <th>State</th>\n",
              "      <th>Account_length</th>\n",
              "      <th>Area_code</th>\n",
              "      <th>International_plan</th>\n",
              "      <th>Voice_mail_plan</th>\n",
              "      <th>Number_vmail_messages</th>\n",
              "      <th>Total_day_minutes</th>\n",
              "      <th>Total_day_calls</th>\n",
              "      <th>Total_day_charge</th>\n",
              "      <th>Total_eve_minutes</th>\n",
              "      <th>Total_eve_calls</th>\n",
              "      <th>Total_eve_charge</th>\n",
              "      <th>Total_night_minutes</th>\n",
              "      <th>Total_night_calls</th>\n",
              "      <th>Total_night_charge</th>\n",
              "      <th>Total_intl_minutes</th>\n",
              "      <th>Total_intl_calls</th>\n",
              "      <th>Total_intl_charge</th>\n",
              "      <th>Customer_service_calls</th>\n",
              "      <th>Churn</th>\n",
              "    </tr>\n",
              "  </thead>\n",
              "  <tbody>\n",
              "    <tr>\n",
              "      <th>0</th>\n",
              "      <td>KS</td>\n",
              "      <td>128</td>\n",
              "      <td>415</td>\n",
              "      <td>No</td>\n",
              "      <td>Yes</td>\n",
              "      <td>25</td>\n",
              "      <td>265.1</td>\n",
              "      <td>110</td>\n",
              "      <td>45.07</td>\n",
              "      <td>197.4</td>\n",
              "      <td>99</td>\n",
              "      <td>16.78</td>\n",
              "      <td>244.7</td>\n",
              "      <td>91</td>\n",
              "      <td>11.01</td>\n",
              "      <td>10.0</td>\n",
              "      <td>3</td>\n",
              "      <td>2.70</td>\n",
              "      <td>1</td>\n",
              "      <td>False</td>\n",
              "    </tr>\n",
              "    <tr>\n",
              "      <th>1</th>\n",
              "      <td>OH</td>\n",
              "      <td>107</td>\n",
              "      <td>415</td>\n",
              "      <td>No</td>\n",
              "      <td>Yes</td>\n",
              "      <td>26</td>\n",
              "      <td>161.6</td>\n",
              "      <td>123</td>\n",
              "      <td>27.47</td>\n",
              "      <td>195.5</td>\n",
              "      <td>103</td>\n",
              "      <td>16.62</td>\n",
              "      <td>254.4</td>\n",
              "      <td>103</td>\n",
              "      <td>11.45</td>\n",
              "      <td>13.7</td>\n",
              "      <td>3</td>\n",
              "      <td>3.70</td>\n",
              "      <td>1</td>\n",
              "      <td>False</td>\n",
              "    </tr>\n",
              "    <tr>\n",
              "      <th>2</th>\n",
              "      <td>NJ</td>\n",
              "      <td>137</td>\n",
              "      <td>415</td>\n",
              "      <td>No</td>\n",
              "      <td>No</td>\n",
              "      <td>0</td>\n",
              "      <td>243.4</td>\n",
              "      <td>114</td>\n",
              "      <td>41.38</td>\n",
              "      <td>121.2</td>\n",
              "      <td>110</td>\n",
              "      <td>10.30</td>\n",
              "      <td>162.6</td>\n",
              "      <td>104</td>\n",
              "      <td>7.32</td>\n",
              "      <td>12.2</td>\n",
              "      <td>5</td>\n",
              "      <td>3.29</td>\n",
              "      <td>0</td>\n",
              "      <td>False</td>\n",
              "    </tr>\n",
              "    <tr>\n",
              "      <th>3</th>\n",
              "      <td>OH</td>\n",
              "      <td>84</td>\n",
              "      <td>408</td>\n",
              "      <td>Yes</td>\n",
              "      <td>No</td>\n",
              "      <td>0</td>\n",
              "      <td>299.4</td>\n",
              "      <td>71</td>\n",
              "      <td>50.90</td>\n",
              "      <td>61.9</td>\n",
              "      <td>88</td>\n",
              "      <td>5.26</td>\n",
              "      <td>196.9</td>\n",
              "      <td>89</td>\n",
              "      <td>8.86</td>\n",
              "      <td>6.6</td>\n",
              "      <td>7</td>\n",
              "      <td>1.78</td>\n",
              "      <td>2</td>\n",
              "      <td>False</td>\n",
              "    </tr>\n",
              "    <tr>\n",
              "      <th>4</th>\n",
              "      <td>OK</td>\n",
              "      <td>75</td>\n",
              "      <td>415</td>\n",
              "      <td>Yes</td>\n",
              "      <td>No</td>\n",
              "      <td>0</td>\n",
              "      <td>166.7</td>\n",
              "      <td>113</td>\n",
              "      <td>28.34</td>\n",
              "      <td>148.3</td>\n",
              "      <td>122</td>\n",
              "      <td>12.61</td>\n",
              "      <td>186.9</td>\n",
              "      <td>121</td>\n",
              "      <td>8.41</td>\n",
              "      <td>10.1</td>\n",
              "      <td>3</td>\n",
              "      <td>2.73</td>\n",
              "      <td>3</td>\n",
              "      <td>False</td>\n",
              "    </tr>\n",
              "    <tr>\n",
              "      <th>...</th>\n",
              "      <td>...</td>\n",
              "      <td>...</td>\n",
              "      <td>...</td>\n",
              "      <td>...</td>\n",
              "      <td>...</td>\n",
              "      <td>...</td>\n",
              "      <td>...</td>\n",
              "      <td>...</td>\n",
              "      <td>...</td>\n",
              "      <td>...</td>\n",
              "      <td>...</td>\n",
              "      <td>...</td>\n",
              "      <td>...</td>\n",
              "      <td>...</td>\n",
              "      <td>...</td>\n",
              "      <td>...</td>\n",
              "      <td>...</td>\n",
              "      <td>...</td>\n",
              "      <td>...</td>\n",
              "      <td>...</td>\n",
              "    </tr>\n",
              "    <tr>\n",
              "      <th>3328</th>\n",
              "      <td>AZ</td>\n",
              "      <td>192</td>\n",
              "      <td>415</td>\n",
              "      <td>No</td>\n",
              "      <td>Yes</td>\n",
              "      <td>36</td>\n",
              "      <td>156.2</td>\n",
              "      <td>77</td>\n",
              "      <td>26.55</td>\n",
              "      <td>215.5</td>\n",
              "      <td>126</td>\n",
              "      <td>18.32</td>\n",
              "      <td>279.1</td>\n",
              "      <td>83</td>\n",
              "      <td>12.56</td>\n",
              "      <td>9.9</td>\n",
              "      <td>6</td>\n",
              "      <td>2.67</td>\n",
              "      <td>2</td>\n",
              "      <td>False</td>\n",
              "    </tr>\n",
              "    <tr>\n",
              "      <th>3329</th>\n",
              "      <td>WV</td>\n",
              "      <td>68</td>\n",
              "      <td>415</td>\n",
              "      <td>No</td>\n",
              "      <td>No</td>\n",
              "      <td>0</td>\n",
              "      <td>231.1</td>\n",
              "      <td>57</td>\n",
              "      <td>39.29</td>\n",
              "      <td>153.4</td>\n",
              "      <td>55</td>\n",
              "      <td>13.04</td>\n",
              "      <td>191.3</td>\n",
              "      <td>123</td>\n",
              "      <td>8.61</td>\n",
              "      <td>9.6</td>\n",
              "      <td>4</td>\n",
              "      <td>2.59</td>\n",
              "      <td>3</td>\n",
              "      <td>False</td>\n",
              "    </tr>\n",
              "    <tr>\n",
              "      <th>3330</th>\n",
              "      <td>RI</td>\n",
              "      <td>28</td>\n",
              "      <td>510</td>\n",
              "      <td>No</td>\n",
              "      <td>No</td>\n",
              "      <td>0</td>\n",
              "      <td>180.8</td>\n",
              "      <td>109</td>\n",
              "      <td>30.74</td>\n",
              "      <td>288.8</td>\n",
              "      <td>58</td>\n",
              "      <td>24.55</td>\n",
              "      <td>191.9</td>\n",
              "      <td>91</td>\n",
              "      <td>8.64</td>\n",
              "      <td>14.1</td>\n",
              "      <td>6</td>\n",
              "      <td>3.81</td>\n",
              "      <td>2</td>\n",
              "      <td>False</td>\n",
              "    </tr>\n",
              "    <tr>\n",
              "      <th>3331</th>\n",
              "      <td>CT</td>\n",
              "      <td>184</td>\n",
              "      <td>510</td>\n",
              "      <td>Yes</td>\n",
              "      <td>No</td>\n",
              "      <td>0</td>\n",
              "      <td>213.8</td>\n",
              "      <td>105</td>\n",
              "      <td>36.35</td>\n",
              "      <td>159.6</td>\n",
              "      <td>84</td>\n",
              "      <td>13.57</td>\n",
              "      <td>139.2</td>\n",
              "      <td>137</td>\n",
              "      <td>6.26</td>\n",
              "      <td>5.0</td>\n",
              "      <td>10</td>\n",
              "      <td>1.35</td>\n",
              "      <td>2</td>\n",
              "      <td>False</td>\n",
              "    </tr>\n",
              "    <tr>\n",
              "      <th>3332</th>\n",
              "      <td>TN</td>\n",
              "      <td>74</td>\n",
              "      <td>415</td>\n",
              "      <td>No</td>\n",
              "      <td>Yes</td>\n",
              "      <td>25</td>\n",
              "      <td>234.4</td>\n",
              "      <td>113</td>\n",
              "      <td>39.85</td>\n",
              "      <td>265.9</td>\n",
              "      <td>82</td>\n",
              "      <td>22.60</td>\n",
              "      <td>241.4</td>\n",
              "      <td>77</td>\n",
              "      <td>10.86</td>\n",
              "      <td>13.7</td>\n",
              "      <td>4</td>\n",
              "      <td>3.70</td>\n",
              "      <td>0</td>\n",
              "      <td>False</td>\n",
              "    </tr>\n",
              "  </tbody>\n",
              "</table>\n",
              "<p>3333 rows × 20 columns</p>\n",
              "</div>"
            ],
            "text/plain": [
              "     State  Account_length  ...  Customer_service_calls  Churn\n",
              "0       KS             128  ...                       1  False\n",
              "1       OH             107  ...                       1  False\n",
              "2       NJ             137  ...                       0  False\n",
              "3       OH              84  ...                       2  False\n",
              "4       OK              75  ...                       3  False\n",
              "...    ...             ...  ...                     ...    ...\n",
              "3328    AZ             192  ...                       2  False\n",
              "3329    WV              68  ...                       3  False\n",
              "3330    RI              28  ...                       2  False\n",
              "3331    CT             184  ...                       2  False\n",
              "3332    TN              74  ...                       0  False\n",
              "\n",
              "[3333 rows x 20 columns]"
            ]
          },
          "metadata": {},
          "execution_count": 17
        }
      ]
    },
    {
      "cell_type": "code",
      "metadata": {
        "id": "UiF16UcOE0YG"
      },
      "source": [
        "# Convert column \"Churn\" to integer type\n",
        "\n",
        "orange.Churn = orange.Churn.astype(int)"
      ],
      "execution_count": null,
      "outputs": []
    },
    {
      "cell_type": "code",
      "metadata": {
        "id": "U7kUprnUJicZ"
      },
      "source": [
        "# use scratch cells here to explore the dataset (graphically) to come up with variables to include in the model"
      ],
      "execution_count": null,
      "outputs": []
    },
    {
      "cell_type": "code",
      "metadata": {
        "id": "997OjIMPJies",
        "colab": {
          "base_uri": "https://localhost:8080/",
          "height": 439
        },
        "outputId": "d32a97c8-6c02-4c2d-e6f6-6fd1ce7ddafd"
      },
      "source": [
        "orange"
      ],
      "execution_count": null,
      "outputs": [
        {
          "output_type": "execute_result",
          "data": {
            "text/html": [
              "<div>\n",
              "<style scoped>\n",
              "    .dataframe tbody tr th:only-of-type {\n",
              "        vertical-align: middle;\n",
              "    }\n",
              "\n",
              "    .dataframe tbody tr th {\n",
              "        vertical-align: top;\n",
              "    }\n",
              "\n",
              "    .dataframe thead th {\n",
              "        text-align: right;\n",
              "    }\n",
              "</style>\n",
              "<table border=\"1\" class=\"dataframe\">\n",
              "  <thead>\n",
              "    <tr style=\"text-align: right;\">\n",
              "      <th></th>\n",
              "      <th>State</th>\n",
              "      <th>Account_length</th>\n",
              "      <th>Area_code</th>\n",
              "      <th>International_plan</th>\n",
              "      <th>Voice_mail_plan</th>\n",
              "      <th>Number_vmail_messages</th>\n",
              "      <th>Total_day_minutes</th>\n",
              "      <th>Total_day_calls</th>\n",
              "      <th>Total_day_charge</th>\n",
              "      <th>Total_eve_minutes</th>\n",
              "      <th>Total_eve_calls</th>\n",
              "      <th>Total_eve_charge</th>\n",
              "      <th>Total_night_minutes</th>\n",
              "      <th>Total_night_calls</th>\n",
              "      <th>Total_night_charge</th>\n",
              "      <th>Total_intl_minutes</th>\n",
              "      <th>Total_intl_calls</th>\n",
              "      <th>Total_intl_charge</th>\n",
              "      <th>Customer_service_calls</th>\n",
              "      <th>Churn</th>\n",
              "    </tr>\n",
              "  </thead>\n",
              "  <tbody>\n",
              "    <tr>\n",
              "      <th>0</th>\n",
              "      <td>KS</td>\n",
              "      <td>128</td>\n",
              "      <td>415</td>\n",
              "      <td>No</td>\n",
              "      <td>Yes</td>\n",
              "      <td>25</td>\n",
              "      <td>265.1</td>\n",
              "      <td>110</td>\n",
              "      <td>45.07</td>\n",
              "      <td>197.4</td>\n",
              "      <td>99</td>\n",
              "      <td>16.78</td>\n",
              "      <td>244.7</td>\n",
              "      <td>91</td>\n",
              "      <td>11.01</td>\n",
              "      <td>10.0</td>\n",
              "      <td>3</td>\n",
              "      <td>2.70</td>\n",
              "      <td>1</td>\n",
              "      <td>0</td>\n",
              "    </tr>\n",
              "    <tr>\n",
              "      <th>1</th>\n",
              "      <td>OH</td>\n",
              "      <td>107</td>\n",
              "      <td>415</td>\n",
              "      <td>No</td>\n",
              "      <td>Yes</td>\n",
              "      <td>26</td>\n",
              "      <td>161.6</td>\n",
              "      <td>123</td>\n",
              "      <td>27.47</td>\n",
              "      <td>195.5</td>\n",
              "      <td>103</td>\n",
              "      <td>16.62</td>\n",
              "      <td>254.4</td>\n",
              "      <td>103</td>\n",
              "      <td>11.45</td>\n",
              "      <td>13.7</td>\n",
              "      <td>3</td>\n",
              "      <td>3.70</td>\n",
              "      <td>1</td>\n",
              "      <td>0</td>\n",
              "    </tr>\n",
              "    <tr>\n",
              "      <th>2</th>\n",
              "      <td>NJ</td>\n",
              "      <td>137</td>\n",
              "      <td>415</td>\n",
              "      <td>No</td>\n",
              "      <td>No</td>\n",
              "      <td>0</td>\n",
              "      <td>243.4</td>\n",
              "      <td>114</td>\n",
              "      <td>41.38</td>\n",
              "      <td>121.2</td>\n",
              "      <td>110</td>\n",
              "      <td>10.30</td>\n",
              "      <td>162.6</td>\n",
              "      <td>104</td>\n",
              "      <td>7.32</td>\n",
              "      <td>12.2</td>\n",
              "      <td>5</td>\n",
              "      <td>3.29</td>\n",
              "      <td>0</td>\n",
              "      <td>0</td>\n",
              "    </tr>\n",
              "    <tr>\n",
              "      <th>3</th>\n",
              "      <td>OH</td>\n",
              "      <td>84</td>\n",
              "      <td>408</td>\n",
              "      <td>Yes</td>\n",
              "      <td>No</td>\n",
              "      <td>0</td>\n",
              "      <td>299.4</td>\n",
              "      <td>71</td>\n",
              "      <td>50.90</td>\n",
              "      <td>61.9</td>\n",
              "      <td>88</td>\n",
              "      <td>5.26</td>\n",
              "      <td>196.9</td>\n",
              "      <td>89</td>\n",
              "      <td>8.86</td>\n",
              "      <td>6.6</td>\n",
              "      <td>7</td>\n",
              "      <td>1.78</td>\n",
              "      <td>2</td>\n",
              "      <td>0</td>\n",
              "    </tr>\n",
              "    <tr>\n",
              "      <th>4</th>\n",
              "      <td>OK</td>\n",
              "      <td>75</td>\n",
              "      <td>415</td>\n",
              "      <td>Yes</td>\n",
              "      <td>No</td>\n",
              "      <td>0</td>\n",
              "      <td>166.7</td>\n",
              "      <td>113</td>\n",
              "      <td>28.34</td>\n",
              "      <td>148.3</td>\n",
              "      <td>122</td>\n",
              "      <td>12.61</td>\n",
              "      <td>186.9</td>\n",
              "      <td>121</td>\n",
              "      <td>8.41</td>\n",
              "      <td>10.1</td>\n",
              "      <td>3</td>\n",
              "      <td>2.73</td>\n",
              "      <td>3</td>\n",
              "      <td>0</td>\n",
              "    </tr>\n",
              "    <tr>\n",
              "      <th>...</th>\n",
              "      <td>...</td>\n",
              "      <td>...</td>\n",
              "      <td>...</td>\n",
              "      <td>...</td>\n",
              "      <td>...</td>\n",
              "      <td>...</td>\n",
              "      <td>...</td>\n",
              "      <td>...</td>\n",
              "      <td>...</td>\n",
              "      <td>...</td>\n",
              "      <td>...</td>\n",
              "      <td>...</td>\n",
              "      <td>...</td>\n",
              "      <td>...</td>\n",
              "      <td>...</td>\n",
              "      <td>...</td>\n",
              "      <td>...</td>\n",
              "      <td>...</td>\n",
              "      <td>...</td>\n",
              "      <td>...</td>\n",
              "    </tr>\n",
              "    <tr>\n",
              "      <th>3328</th>\n",
              "      <td>AZ</td>\n",
              "      <td>192</td>\n",
              "      <td>415</td>\n",
              "      <td>No</td>\n",
              "      <td>Yes</td>\n",
              "      <td>36</td>\n",
              "      <td>156.2</td>\n",
              "      <td>77</td>\n",
              "      <td>26.55</td>\n",
              "      <td>215.5</td>\n",
              "      <td>126</td>\n",
              "      <td>18.32</td>\n",
              "      <td>279.1</td>\n",
              "      <td>83</td>\n",
              "      <td>12.56</td>\n",
              "      <td>9.9</td>\n",
              "      <td>6</td>\n",
              "      <td>2.67</td>\n",
              "      <td>2</td>\n",
              "      <td>0</td>\n",
              "    </tr>\n",
              "    <tr>\n",
              "      <th>3329</th>\n",
              "      <td>WV</td>\n",
              "      <td>68</td>\n",
              "      <td>415</td>\n",
              "      <td>No</td>\n",
              "      <td>No</td>\n",
              "      <td>0</td>\n",
              "      <td>231.1</td>\n",
              "      <td>57</td>\n",
              "      <td>39.29</td>\n",
              "      <td>153.4</td>\n",
              "      <td>55</td>\n",
              "      <td>13.04</td>\n",
              "      <td>191.3</td>\n",
              "      <td>123</td>\n",
              "      <td>8.61</td>\n",
              "      <td>9.6</td>\n",
              "      <td>4</td>\n",
              "      <td>2.59</td>\n",
              "      <td>3</td>\n",
              "      <td>0</td>\n",
              "    </tr>\n",
              "    <tr>\n",
              "      <th>3330</th>\n",
              "      <td>RI</td>\n",
              "      <td>28</td>\n",
              "      <td>510</td>\n",
              "      <td>No</td>\n",
              "      <td>No</td>\n",
              "      <td>0</td>\n",
              "      <td>180.8</td>\n",
              "      <td>109</td>\n",
              "      <td>30.74</td>\n",
              "      <td>288.8</td>\n",
              "      <td>58</td>\n",
              "      <td>24.55</td>\n",
              "      <td>191.9</td>\n",
              "      <td>91</td>\n",
              "      <td>8.64</td>\n",
              "      <td>14.1</td>\n",
              "      <td>6</td>\n",
              "      <td>3.81</td>\n",
              "      <td>2</td>\n",
              "      <td>0</td>\n",
              "    </tr>\n",
              "    <tr>\n",
              "      <th>3331</th>\n",
              "      <td>CT</td>\n",
              "      <td>184</td>\n",
              "      <td>510</td>\n",
              "      <td>Yes</td>\n",
              "      <td>No</td>\n",
              "      <td>0</td>\n",
              "      <td>213.8</td>\n",
              "      <td>105</td>\n",
              "      <td>36.35</td>\n",
              "      <td>159.6</td>\n",
              "      <td>84</td>\n",
              "      <td>13.57</td>\n",
              "      <td>139.2</td>\n",
              "      <td>137</td>\n",
              "      <td>6.26</td>\n",
              "      <td>5.0</td>\n",
              "      <td>10</td>\n",
              "      <td>1.35</td>\n",
              "      <td>2</td>\n",
              "      <td>0</td>\n",
              "    </tr>\n",
              "    <tr>\n",
              "      <th>3332</th>\n",
              "      <td>TN</td>\n",
              "      <td>74</td>\n",
              "      <td>415</td>\n",
              "      <td>No</td>\n",
              "      <td>Yes</td>\n",
              "      <td>25</td>\n",
              "      <td>234.4</td>\n",
              "      <td>113</td>\n",
              "      <td>39.85</td>\n",
              "      <td>265.9</td>\n",
              "      <td>82</td>\n",
              "      <td>22.60</td>\n",
              "      <td>241.4</td>\n",
              "      <td>77</td>\n",
              "      <td>10.86</td>\n",
              "      <td>13.7</td>\n",
              "      <td>4</td>\n",
              "      <td>3.70</td>\n",
              "      <td>0</td>\n",
              "      <td>0</td>\n",
              "    </tr>\n",
              "  </tbody>\n",
              "</table>\n",
              "<p>3333 rows × 20 columns</p>\n",
              "</div>"
            ],
            "text/plain": [
              "     State  Account_length  ...  Customer_service_calls Churn\n",
              "0       KS             128  ...                       1     0\n",
              "1       OH             107  ...                       1     0\n",
              "2       NJ             137  ...                       0     0\n",
              "3       OH              84  ...                       2     0\n",
              "4       OK              75  ...                       3     0\n",
              "...    ...             ...  ...                     ...   ...\n",
              "3328    AZ             192  ...                       2     0\n",
              "3329    WV              68  ...                       3     0\n",
              "3330    RI              28  ...                       2     0\n",
              "3331    CT             184  ...                       2     0\n",
              "3332    TN              74  ...                       0     0\n",
              "\n",
              "[3333 rows x 20 columns]"
            ]
          },
          "metadata": {},
          "execution_count": 21
        }
      ]
    },
    {
      "cell_type": "code",
      "metadata": {
        "colab": {
          "base_uri": "https://localhost:8080/",
          "height": 602
        },
        "id": "E9dAQ0Gc2wz0",
        "outputId": "9e265726-9337-4fc9-f882-6711f162fe29"
      },
      "source": [
        "orange.sort_values(by = 'Churn', inplace = True)\n",
        "plt.figure(figsize = (10,8))\n",
        "p1 = plt.scatter(orange.Churn, orange.Account_length)\n",
        "p2 = plt.plot(orange.Churn, orange.Account_length, color = 'black', linewidth = 1)\n",
        "plt.xlabel('Churn')\n",
        "plt.ylabel('Account Length')\n",
        "plt.legend([p1, p2], ['Raw Data', 'Model Prediction'])\n",
        "plt.annotate('Pr(Account_length)>100!', (5,1.1), fontsize = 15)\n",
        "plt.annotate('Pr(Account_length)<100!', (21,-.15), fontsize = 15)"
      ],
      "execution_count": null,
      "outputs": [
        {
          "output_type": "stream",
          "name": "stderr",
          "text": [
            "/usr/local/lib/python3.7/dist-packages/ipykernel_launcher.py:7: UserWarning: Legend does not support [<matplotlib.lines.Line2D object at 0x7ff4b47fecd0>] instances.\n",
            "A proxy artist may be used instead.\n",
            "See: http://matplotlib.org/users/legend_guide.html#creating-artists-specifically-for-adding-to-the-legend-aka-proxy-artists\n",
            "  import sys\n"
          ]
        },
        {
          "output_type": "execute_result",
          "data": {
            "text/plain": [
              "Text(21, -0.15, 'Pr(Account_length)<100!')"
            ]
          },
          "metadata": {},
          "execution_count": 23
        },
        {
          "output_type": "display_data",
          "data": {
            "image/png": "[encoded data removed]",
            "text/plain": [
              "<Figure size 720x576 with 1 Axes>"
            ]
          },
          "metadata": {
            "needs_background": "light"
          }
        }
      ]
    },
    {
      "cell_type": "code",
      "metadata": {
        "colab": {
          "base_uri": "https://localhost:8080/",
          "height": 646
        },
        "id": "O7GZU8uk7DpA",
        "outputId": "4f66b3fa-383b-4891-fc0a-04948296d24d"
      },
      "source": [
        "orange.sort_values(by = 'Churn', inplace = True)\n",
        "plt.figure(figsize = (10,8))\n",
        "p1 = plt.scatter(orange.Churn, orange.International_plan)\n",
        "p2 = plt.plot(orange.Churn, orange.International_plan, color = 'black', linewidth = 1)\n",
        "plt.xlabel('Churn')\n",
        "plt.ylabel('International Plan')\n",
        "plt.legend([p1, p2], ['Raw Data', 'Model Prediction'])\n",
        "plt.annotate('Pr(International_plan)>100!', (5,1.1), fontsize = 15)\n",
        "plt.annotate('Pr(International_plan)<100!', (21,-.15), fontsize = 15)"
      ],
      "execution_count": null,
      "outputs": [
        {
          "output_type": "stream",
          "name": "stderr",
          "text": [
            "/usr/local/lib/python3.7/dist-packages/ipykernel_launcher.py:7: UserWarning: Legend does not support [<matplotlib.lines.Line2D object at 0x7ff4b4817d50>] instances.\n",
            "A proxy artist may be used instead.\n",
            "See: http://matplotlib.org/users/legend_guide.html#creating-artists-specifically-for-adding-to-the-legend-aka-proxy-artists\n",
            "  import sys\n"
          ]
        },
        {
          "output_type": "execute_result",
          "data": {
            "text/plain": [
              "Text(21, -0.15, 'Pr(International_plan)<100!')"
            ]
          },
          "metadata": {},
          "execution_count": 24
        },
        {
          "output_type": "display_data",
          "data": {
            "image/png": "[encoded data removed]",
            "text/plain": [
              "<Figure size 720x576 with 1 Axes>"
            ]
          },
          "metadata": {
            "needs_background": "light"
          }
        }
      ]
    },
    {
      "cell_type": "code",
      "metadata": {
        "colab": {
          "base_uri": "https://localhost:8080/",
          "height": 602
        },
        "id": "LmAO9uFE7UPh",
        "outputId": "c72a7cca-049f-4a4a-a595-284c37b31661"
      },
      "source": [
        "orange.sort_values(by = 'Churn', inplace = True)\n",
        "plt.figure(figsize = (10,8))\n",
        "p1 = plt.scatter(orange.Churn, orange.Total_day_calls)\n",
        "p2 = plt.plot(orange.Churn, orange.Total_day_calls, color = 'black', linewidth = 1)\n",
        "plt.xlabel('Churn')\n",
        "plt.ylabel('Total Day Calls')\n",
        "plt.legend([p1, p2], ['Raw Data', 'Model Prediction'])\n",
        "plt.annotate('Pr(Total_day_calls)>100!', (5,1.1), fontsize = 15)\n",
        "plt.annotate('Pr(Total_day_calls)<100!', (21,-.15), fontsize = 15)"
      ],
      "execution_count": null,
      "outputs": [
        {
          "output_type": "stream",
          "name": "stderr",
          "text": [
            "/usr/local/lib/python3.7/dist-packages/ipykernel_launcher.py:7: UserWarning: Legend does not support [<matplotlib.lines.Line2D object at 0x7ff4b47bae10>] instances.\n",
            "A proxy artist may be used instead.\n",
            "See: http://matplotlib.org/users/legend_guide.html#creating-artists-specifically-for-adding-to-the-legend-aka-proxy-artists\n",
            "  import sys\n"
          ]
        },
        {
          "output_type": "execute_result",
          "data": {
            "text/plain": [
              "Text(21, -0.15, 'Pr(Total_day_calls)<100!')"
            ]
          },
          "metadata": {},
          "execution_count": 26
        },
        {
          "output_type": "display_data",
          "data": {
            "image/png": "[encoded data removed]",
            "text/plain": [
              "<Figure size 720x576 with 1 Axes>"
            ]
          },
          "metadata": {
            "needs_background": "light"
          }
        }
      ]
    },
    {
      "cell_type": "markdown",
      "metadata": {
        "id": "k6OsJftiE-03"
      },
      "source": [
        "**Answer these**\n",
        "\n",
        "List some (at least 3) explanatory variables from the dataframe, or that you can make using existing variables in the dataframe, that can influence churn. For each, give a brief explanation of the potential relationship, and make a prediction about the direction of the prediction (increase or decrease churn).\n",
        "\n",
        "1. Account Length\n",
        "    1. It seems as though Churn is not harshly affected by account length. The higher the churn the shorter the account length.\n",
        "    1. The churn will go down the longer the account length.\n",
        "1. International Plan\n",
        "    1. The Churn is affected heavily by whether the person has an international plan.\n",
        "    1. If the person has an international plan, their churn will be higher.\n",
        "1. Total Day Calls\n",
        "    1. Comparing churn to the number of day calls you can see that there is an upward slope.\n",
        "    1. More day calls means a higher churn.\n",
        "\n"
      ]
    },
    {
      "cell_type": "markdown",
      "metadata": {
        "id": "A5zWKKQCFivv"
      },
      "source": [
        "**Edit this**\n",
        "Write the regression equation below with the appropriate explanatory variables as posited in your answers above: \n",
        "\n",
        "$$\n",
        "logit(Churn) = \\beta_0 + \\beta_1 x_1..... + e\n",
        "$$\n",
        "\n",
        "FYI, if you are using a categorical variable with 2 possible outcomes, say International_Plan (yes or no), include it in the regression equation as (baseline is assumed to be no): \n",
        "$$\n",
        "+\\beta_{IntlPlan}\n",
        "$$\n",
        "\n",
        "\n",
        "If you are using the a categorical variable with many outcomes, say State, include it using: \n",
        "$$\n",
        "+ \\sum_{state \\ne PA }\\beta_{state},\n",
        "$$\n",
        "where PA is the baseline reference group. Feel free to change PA to any other reference group, but be sure to do so when you run the regression as well."
      ]
    },
    {
      "cell_type": "code",
      "metadata": {
        "id": "5tZSv9QNHWRr"
      },
      "source": [
        "# Esitmate the logit model you've specified above here using statsmodels (smf)\n",
        "\n",
        "import statsmodels.formula.api as smf\n",
        "formula = 'Churn ~(International_plan)*Total_day_calls'\n",
        "res = smf.ols(formula, data = orange).fit()\n",
        "\n"
      ],
      "execution_count": null,
      "outputs": []
    },
    {
      "cell_type": "code",
      "metadata": {
        "id": "pgOd36h_HaN-",
        "colab": {
          "base_uri": "https://localhost:8080/",
          "height": 520
        },
        "outputId": "4bc295d2-b282-48b8-cdcd-bbbb1710edc9"
      },
      "source": [
        "# print the summary table of your logit model\n",
        "\n",
        "res.summary()"
      ],
      "execution_count": null,
      "outputs": [
        {
          "output_type": "execute_result",
          "data": {
            "text/html": [
              "<table class=\"simpletable\">\n",
              "<caption>OLS Regression Results</caption>\n",
              "<tr>\n",
              "  <th>Dep. Variable:</th>          <td>Churn</td>      <th>  R-squared:         </th> <td>   0.070</td>\n",
              "</tr>\n",
              "<tr>\n",
              "  <th>Model:</th>                   <td>OLS</td>       <th>  Adj. R-squared:    </th> <td>   0.069</td>\n",
              "</tr>\n",
              "<tr>\n",
              "  <th>Method:</th>             <td>Least Squares</td>  <th>  F-statistic:       </th> <td>   82.96</td>\n",
              "</tr>\n",
              "<tr>\n",
              "  <th>Date:</th>             <td>Thu, 11 Nov 2021</td> <th>  Prob (F-statistic):</th> <td>9.29e-52</td>\n",
              "</tr>\n",
              "<tr>\n",
              "  <th>Time:</th>                 <td>17:52:57</td>     <th>  Log-Likelihood:    </th> <td> -1129.2</td>\n",
              "</tr>\n",
              "<tr>\n",
              "  <th>No. Observations:</th>      <td>  3333</td>      <th>  AIC:               </th> <td>   2266.</td>\n",
              "</tr>\n",
              "<tr>\n",
              "  <th>Df Residuals:</th>          <td>  3329</td>      <th>  BIC:               </th> <td>   2291.</td>\n",
              "</tr>\n",
              "<tr>\n",
              "  <th>Df Model:</th>              <td>     3</td>      <th>                     </th>     <td> </td>   \n",
              "</tr>\n",
              "<tr>\n",
              "  <th>Covariance Type:</th>      <td>nonrobust</td>    <th>                     </th>     <td> </td>   \n",
              "</tr>\n",
              "</table>\n",
              "<table class=\"simpletable\">\n",
              "<tr>\n",
              "                      <td></td>                         <th>coef</th>     <th>std err</th>      <th>t</th>      <th>P>|t|</th>  <th>[0.025</th>    <th>0.975]</th>  \n",
              "</tr>\n",
              "<tr>\n",
              "  <th>Intercept</th>                                 <td>    0.0589</td> <td>    0.032</td> <td>    1.854</td> <td> 0.064</td> <td>   -0.003</td> <td>    0.121</td>\n",
              "</tr>\n",
              "<tr>\n",
              "  <th>International_plan[T.Yes]</th>                 <td>    0.5474</td> <td>    0.098</td> <td>    5.598</td> <td> 0.000</td> <td>    0.356</td> <td>    0.739</td>\n",
              "</tr>\n",
              "<tr>\n",
              "  <th>Total_day_calls</th>                           <td>    0.0006</td> <td>    0.000</td> <td>    1.800</td> <td> 0.072</td> <td>-4.98e-05</td> <td>    0.001</td>\n",
              "</tr>\n",
              "<tr>\n",
              "  <th>International_plan[T.Yes]:Total_day_calls</th> <td>   -0.0024</td> <td>    0.001</td> <td>   -2.489</td> <td> 0.013</td> <td>   -0.004</td> <td>   -0.001</td>\n",
              "</tr>\n",
              "</table>\n",
              "<table class=\"simpletable\">\n",
              "<tr>\n",
              "  <th>Omnibus:</th>       <td>1107.577</td> <th>  Durbin-Watson:     </th> <td>   0.140</td>\n",
              "</tr>\n",
              "<tr>\n",
              "  <th>Prob(Omnibus):</th>  <td> 0.000</td>  <th>  Jarque-Bera (JB):  </th> <td>2698.266</td>\n",
              "</tr>\n",
              "<tr>\n",
              "  <th>Skew:</th>           <td> 1.891</td>  <th>  Prob(JB):          </th> <td>    0.00</td>\n",
              "</tr>\n",
              "<tr>\n",
              "  <th>Kurtosis:</th>       <td> 5.265</td>  <th>  Cond. No.          </th> <td>1.72e+03</td>\n",
              "</tr>\n",
              "</table><br/><br/>Warnings:<br/>[1] Standard Errors assume that the covariance matrix of the errors is correctly specified.<br/>[2] The condition number is large, 1.72e+03. This might indicate that there are<br/>strong multicollinearity or other numerical problems."
            ],
            "text/plain": [
              "<class 'statsmodels.iolib.summary.Summary'>\n",
              "\"\"\"\n",
              "                            OLS Regression Results                            \n",
              "==============================================================================\n",
              "Dep. Variable:                  Churn   R-squared:                       0.070\n",
              "Model:                            OLS   Adj. R-squared:                  0.069\n",
              "Method:                 Least Squares   F-statistic:                     82.96\n",
              "Date:                Thu, 11 Nov 2021   Prob (F-statistic):           9.29e-52\n",
              "Time:                        17:52:57   Log-Likelihood:                -1129.2\n",
              "No. Observations:                3333   AIC:                             2266.\n",
              "Df Residuals:                    3329   BIC:                             2291.\n",
              "Df Model:                           3                                         \n",
              "Covariance Type:            nonrobust                                         \n",
              "=============================================================================================================\n",
              "                                                coef    std err          t      P>|t|      [0.025      0.975]\n",
              "-------------------------------------------------------------------------------------------------------------\n",
              "Intercept                                     0.0589      0.032      1.854      0.064      -0.003       0.121\n",
              "International_plan[T.Yes]                     0.5474      0.098      5.598      0.000       0.356       0.739\n",
              "Total_day_calls                               0.0006      0.000      1.800      0.072   -4.98e-05       0.001\n",
              "International_plan[T.Yes]:Total_day_calls    -0.0024      0.001     -2.489      0.013      -0.004      -0.001\n",
              "==============================================================================\n",
              "Omnibus:                     1107.577   Durbin-Watson:                   0.140\n",
              "Prob(Omnibus):                  0.000   Jarque-Bera (JB):             2698.266\n",
              "Skew:                           1.891   Prob(JB):                         0.00\n",
              "Kurtosis:                       5.265   Cond. No.                     1.72e+03\n",
              "==============================================================================\n",
              "\n",
              "Warnings:\n",
              "[1] Standard Errors assume that the covariance matrix of the errors is correctly specified.\n",
              "[2] The condition number is large, 1.72e+03. This might indicate that there are\n",
              "strong multicollinearity or other numerical problems.\n",
              "\"\"\""
            ]
          },
          "metadata": {},
          "execution_count": 54
        }
      ]
    },
    {
      "cell_type": "code",
      "metadata": {
        "id": "JXrx1fa0Hcgr"
      },
      "source": [
        "# obtain the marginal effects\n",
        "\n",
        "rsquared, params, pvalues = res.rsquared, res.params, res.pvalues\n"
      ],
      "execution_count": null,
      "outputs": []
    },
    {
      "cell_type": "code",
      "metadata": {
        "id": "-SsKUVO1HfsX",
        "colab": {
          "base_uri": "https://localhost:8080/"
        },
        "outputId": "4bc610f7-2ae2-461b-a3dc-c4164aed5e8b"
      },
      "source": [
        "# print the marginal effects summary table here\n",
        "rsquared\n"
      ],
      "execution_count": null,
      "outputs": [
        {
          "output_type": "execute_result",
          "data": {
            "text/plain": [
              "0.06955999576492433"
            ]
          },
          "metadata": {},
          "execution_count": 56
        }
      ]
    },
    {
      "cell_type": "code",
      "metadata": {
        "colab": {
          "base_uri": "https://localhost:8080/"
        },
        "id": "aH2JYFKy-EO6",
        "outputId": "9249c4a5-ab09-4eeb-8375-28e2e667a69f"
      },
      "source": [
        "params"
      ],
      "execution_count": null,
      "outputs": [
        {
          "output_type": "execute_result",
          "data": {
            "text/plain": [
              "Intercept                                    0.058872\n",
              "International_plan[T.Yes]                    0.547440\n",
              "Total_day_calls                              0.000558\n",
              "International_plan[T.Yes]:Total_day_calls   -0.002368\n",
              "dtype: float64"
            ]
          },
          "metadata": {},
          "execution_count": 57
        }
      ]
    },
    {
      "cell_type": "code",
      "metadata": {
        "colab": {
          "base_uri": "https://localhost:8080/"
        },
        "id": "1ITCNRlZ-EGV",
        "outputId": "668a774a-3b62-4c61-820e-e40b5db8a9dc"
      },
      "source": [
        "pvalues"
      ],
      "execution_count": null,
      "outputs": [
        {
          "output_type": "execute_result",
          "data": {
            "text/plain": [
              "Intercept                                    6.388598e-02\n",
              "International_plan[T.Yes]                    2.349144e-08\n",
              "Total_day_calls                              7.192304e-02\n",
              "International_plan[T.Yes]:Total_day_calls    1.286339e-02\n",
              "dtype: float64"
            ]
          },
          "metadata": {},
          "execution_count": 58
        }
      ]
    },
    {
      "cell_type": "markdown",
      "metadata": {
        "id": "uGSBIR8KGS0Y"
      },
      "source": [
        "**Answer these prompts**\n",
        "\n",
        "\n",
        "Interpret at least 3 of the marginal effects from your model below, be sure to reference both the marginal effects and the p-values (and explain their meaning in the context of your specific model). Be sure to discuss whether the results conform to your predictions.* \n",
        "\n",
        "1. The param that is refering to the international plan is a negtive number at -0.002368 which would mean that the churn is not depenedent on the international plan that customers have.\n",
        "1. Total day calls in the params is a positive number which may mean that this is coinciding with the higher Churn that someone may have. \n",
        "1. R squared is below one which means that there that the Churn is not completley correlated with the international plan or total day calls and that there are other columns that are directly affecting the Churn (depended variable) other than the two there were highlighted.\n",
        "\n",
        "\n",
        "*If you have a lot of coefficients from one categorical variable, just interpret one of those (and then 2 other coefficients not from the same categorical variable). For instance, if you included state in your model, just interpret the coefficient for one state, don't need to interpret all states' coefficients. "
      ]
    },
    {
      "cell_type": "markdown",
      "metadata": {
        "id": "NdAa9ycKH7Pr"
      },
      "source": [
        "**Answer this**\n",
        "\n",
        "Based on your model, what recommendations do you have for the telecom service provider?\n",
        "\n",
        "Answer: My reccomendations for the telecom services would be to find other variables that may be affecting curn not mentioned in the list of columns and study those based on the churn number."
      ]
    }
  ]
}