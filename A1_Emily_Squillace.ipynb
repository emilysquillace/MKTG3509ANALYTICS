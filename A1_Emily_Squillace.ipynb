{
  "nbformat": 4,
  "nbformat_minor": 0,
  "metadata": {
    "colab": {
      "name": "A1 Emily Squillace",
      "provenance": []
    },
    "kernelspec": {
      "name": "python3",
      "display_name": "Python 3"
    },
    "language_info": {
      "name": "python"
    }
  },
  "cells": [
    {
      "cell_type": "markdown",
      "metadata": {
        "id": "6uZSyvFUytvd"
      },
      "source": [
        "#<center> Emily C Squillace </center>\n",
        "\n",
        "\n",
        "## Contact\n",
        "Email: [emily.squillace@temple.edu](mailto:emily.squillace@temple.edu)\n",
        "Website: [Linked In](https://www.linkedin.com/in/emilysquillace/)\n",
        "\n",
        "\n",
        "## Summary\n",
        "\n",
        "I am currently an Undergrate Marketing student at the FOX School of Business, interested in Social Media and Development Marketing as well as Data Analytics.\n",
        "\n",
        "\n",
        "---\n",
        "\n",
        "\n",
        "\n",
        "## Education\n",
        "\n",
        "**Bachelors in Business Administration Marketing**\n",
        "*Temple University FOX School of Business*\n",
        "Graduation: Spring 2022\n",
        "\n",
        "\n",
        "\n",
        "\n",
        "---\n",
        "\n",
        "\n",
        "## Work Experience\n",
        "\n",
        "**Leasing Coordinator**\n",
        "*MK Management Group, Philadelphia, PA, November 2019-June 2021*\n",
        "\n",
        "-   Processed rental payments and provided finance and accounting assistance to 300 plus units \n",
        "-   Assisted in bank reconciliations under the supervision of a CPA\n",
        "-   Assisted in running the marketing of social media accounts including Instagram, Facebook and LinkedIn\n",
        "-   Assisted tenants in the leasing renewal process and responded to tenant inquiries as well as landlord concerns\n",
        "\n",
        "\n",
        "**Marketing and Development Intern**\n",
        "*RM Development Partners, Philadelphia, PA, June 2021-Present*\n",
        "\n",
        "*   Assist in Asset Management for 20 plus lilmited liability corporations \n",
        "*   Assist in marketing coordination for development in the greater Philadelphia area\n",
        "\n",
        "\n",
        "---\n",
        "\n",
        "\n",
        "## Skills\n",
        "\n",
        "-   Proficient in Microsoft Office, Google Drive, Appfolio, POS and iOS Applications\n",
        "-   CPR Certified\n",
        "-   Four-year Athlete, Varsity Track and Field, Fall 2013-2017\n"
      ]
    },
    {
      "cell_type": "code",
      "metadata": {
        "colab": {
          "base_uri": "https://localhost:8080/"
        },
        "id": "PSwww-rK2cct",
        "outputId": "bc9c6dfa-f071-417b-bae8-4bf8d63f7b92"
      },
      "source": [
        "from google.colab import drive \n",
        "drive.mount(\"drive\")"
      ],
      "execution_count": 6,
      "outputs": [
        {
          "output_type": "stream",
          "name": "stdout",
          "text": [
            "Mounted at drive\n"
          ]
        }
      ]
    },
    {
      "cell_type": "code",
      "metadata": {
        "id": "d9i7o4VE2kaL"
      },
      "source": [
        "import os"
      ],
      "execution_count": 7,
      "outputs": []
    },
    {
      "cell_type": "code",
      "metadata": {
        "colab": {
          "base_uri": "https://localhost:8080/"
        },
        "id": "zxClyWEL2rZf",
        "outputId": "765ec11a-d651-47b3-9787-9c8c90887bd5"
      },
      "source": [
        "os.listdir('drive/MyDrive')"
      ],
      "execution_count": 11,
      "outputs": [
        {
          "output_type": "execute_result",
          "data": {
            "text/plain": [
              "['Getting started.pdf',\n",
              " 'Financial Accounting',\n",
              " 'HRM',\n",
              " 'Professional',\n",
              " 'Macro ',\n",
              " 'Legal',\n",
              " 'IH',\n",
              " 'marketing3509',\n",
              " 'Health Insurance 2021 Spring',\n",
              " '2102 MKTG',\n",
              " 'OSM',\n",
              " 'BA',\n",
              " 'Untitled0.ipynb',\n",
              " 'A1 Emily Squillace']"
            ]
          },
          "metadata": {},
          "execution_count": 11
        }
      ]
    },
    {
      "cell_type": "code",
      "metadata": {
        "id": "6QLybjOr3jf3"
      },
      "source": [
        ""
      ],
      "execution_count": null,
      "outputs": []
    }
  ]
}